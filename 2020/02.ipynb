{
 "cells": [
  {
   "cell_type": "code",
   "execution_count": 1,
   "metadata": {},
   "outputs": [],
   "source": [
    "import pandas as pd"
   ]
  },
  {
   "cell_type": "code",
   "execution_count": 4,
   "metadata": {},
   "outputs": [],
   "source": [
    "data = open('02_input.txt', 'r').read().split('\\n')"
   ]
  },
  {
   "cell_type": "code",
   "execution_count": 46,
   "metadata": {},
   "outputs": [],
   "source": [
    "def parse_string(string):\n",
    "    x = string.replace(':', '').split(' ')\n",
    "    le_min = int(x[0].split('-')[0])\n",
    "    le_max = int(x[0].split('-')[1])\n",
    "    letter = x[1]\n",
    "    password = x[2]\n",
    "    return {\"min\": le_min, \"max\": le_max, \"letter\": letter, \"password\": password}\n",
    "\n",
    "assert parse_string(\"12-15 p: zfpmpphpgghpppppppp\") == {'min': 12, 'max': 15, 'letter': 'p', 'password': 'zfpmpphpgghpppppppp'}"
   ]
  },
  {
   "cell_type": "code",
   "execution_count": null,
   "metadata": {},
   "outputs": [],
   "source": [
    "parse_s"
   ]
  },
  {
   "cell_type": "code",
   "execution_count": 47,
   "metadata": {},
   "outputs": [
    {
     "name": "stdout",
     "output_type": "stream",
     "text": [
      "all tests passed\n"
     ]
    }
   ],
   "source": [
    "def is_valid(string):\n",
    "    \n",
    "    from collections import Counter\n",
    "    \n",
    "    parsed_data = parse_string(string)\n",
    "    le_counter = dict(Counter(list(parsed_data['password'])))\n",
    "    \n",
    "    if (parsed_data['letter'] not in le_counter):\n",
    "        le_counter[parsed_data['letter']] = 0\n",
    "    \n",
    "    #print([le_min, le_max])\n",
    "    #print(le_counter)\n",
    "    return (le_counter[parsed_data['letter']] >= parsed_data['min']) and (le_counter[parsed_data['letter']] <= parsed_data['max'])\n",
    "    \n",
    "    \n",
    "assert is_valid('1-2 m: jmkmd') is True\n",
    "assert is_valid('1-2 m: jmkd') is True\n",
    "assert is_valid('1-2 m: jmkmmmd') is False\n",
    "assert is_valid('1-2 m: jkhd') is False\n",
    "print('all tests passed')"
   ]
  },
  {
   "cell_type": "code",
   "execution_count": 32,
   "metadata": {},
   "outputs": [
    {
     "data": {
      "text/plain": [
       "2"
      ]
     },
     "execution_count": 32,
     "metadata": {},
     "output_type": "execute_result"
    }
   ],
   "source": [
    "True + True"
   ]
  },
  {
   "cell_type": "code",
   "execution_count": 49,
   "metadata": {},
   "outputs": [],
   "source": [
    "def solve(data, validation_function):\n",
    "    counter = 0\n",
    "    for row in data:\n",
    "        if row != '':\n",
    "            #print(row)\n",
    "            if validation_function(row):\n",
    "                counter += 1\n",
    "    \n",
    "    return counter"
   ]
  },
  {
   "cell_type": "code",
   "execution_count": 50,
   "metadata": {},
   "outputs": [
    {
     "data": {
      "text/plain": [
       "469"
      ]
     },
     "execution_count": 50,
     "metadata": {},
     "output_type": "execute_result"
    }
   ],
   "source": [
    "solve(data, is_valid)"
   ]
  },
  {
   "cell_type": "code",
   "execution_count": 38,
   "metadata": {},
   "outputs": [
    {
     "data": {
      "text/plain": [
       "False"
      ]
     },
     "execution_count": 38,
     "metadata": {},
     "output_type": "execute_result"
    }
   ],
   "source": [
    "is_valid('17-18 b: jnlntbblbbqbkqmbbb')"
   ]
  },
  {
   "cell_type": "markdown",
   "metadata": {},
   "source": [
    "# part 2"
   ]
  },
  {
   "cell_type": "code",
   "execution_count": 61,
   "metadata": {},
   "outputs": [
    {
     "name": "stdout",
     "output_type": "stream",
     "text": [
      "all tests passed\n"
     ]
    }
   ],
   "source": [
    "def is_valid_2(string):\n",
    "    \n",
    "    from collections import Counter\n",
    "    \n",
    "    parsed_data = parse_string(string)\n",
    "    \n",
    "    \n",
    "    \n",
    "    password = parsed_data['password']\n",
    "    #print(password[parsed_data['min']-1])\n",
    "    #print(password[parsed_data['max']-1])\n",
    "    #print(int(password[parsed_data['min']-1] == parsed_data['letter']) +\n",
    "     #   int(password[parsed_data['max']-1] == parsed_data['letter']))\n",
    "    \n",
    "    is_ok = (\n",
    "        int(password[parsed_data['min']-1] == parsed_data['letter']) +\n",
    "        int(password[parsed_data['max']-1] == parsed_data['letter'])\n",
    "    == 1)\n",
    "    \n",
    "    return is_ok\n",
    "    \n",
    "assert is_valid_2('1-2 m: jmkmd') is True\n",
    "assert is_valid_2('1-2 m: mjkd') is True\n",
    "assert is_valid_2('1-2 m: mmkmmmd') is False\n",
    "assert is_valid_2('1-2 m: jjkhd') is False\n",
    "print('all tests passed')"
   ]
  },
  {
   "cell_type": "code",
   "execution_count": 62,
   "metadata": {},
   "outputs": [
    {
     "data": {
      "text/plain": [
       "267"
      ]
     },
     "execution_count": 62,
     "metadata": {},
     "output_type": "execute_result"
    }
   ],
   "source": [
    "solve(data, is_valid_2)"
   ]
  },
  {
   "cell_type": "code",
   "execution_count": null,
   "metadata": {},
   "outputs": [],
   "source": []
  }
 ],
 "metadata": {
  "kernelspec": {
   "display_name": "Python 3",
   "language": "python",
   "name": "python3"
  },
  "language_info": {
   "codemirror_mode": {
    "name": "ipython",
    "version": 3
   },
   "file_extension": ".py",
   "mimetype": "text/x-python",
   "name": "python",
   "nbconvert_exporter": "python",
   "pygments_lexer": "ipython3",
   "version": "3.7.4"
  }
 },
 "nbformat": 4,
 "nbformat_minor": 4
}
