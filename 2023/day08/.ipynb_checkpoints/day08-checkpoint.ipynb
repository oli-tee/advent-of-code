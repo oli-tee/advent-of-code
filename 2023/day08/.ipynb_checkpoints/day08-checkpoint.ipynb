{
 "cells": [
  {
   "cell_type": "code",
   "execution_count": 1,
   "id": "46c93e7a-2b4a-463e-99f4-7871ec7749a8",
   "metadata": {},
   "outputs": [
    {
     "data": {
      "text/plain": [
       "<module 'day08' from '/Users/olit/git_tree/advent-of-code/2023/day08/day08.py'>"
      ]
     },
     "execution_count": 1,
     "metadata": {},
     "output_type": "execute_result"
    }
   ],
   "source": [
    "from importlib import reload\n",
    "import day08\n",
    "reload(day08)"
   ]
  },
  {
   "cell_type": "code",
   "execution_count": null,
   "id": "296cf0d3-d46e-46fe-92f6-3af57a6fe028",
   "metadata": {},
   "outputs": [],
   "source": []
  },
  {
   "cell_type": "code",
   "execution_count": 30,
   "id": "22447507-5842-4bcd-84e5-446aa9f7b5f5",
   "metadata": {},
   "outputs": [
    {
     "data": {
      "text/plain": [
       "{'turns': 'LLR',\n",
       " 'graph': {'AAA': {'L': 'BBB', 'R': 'BBB'},\n",
       "  'BBB': {'L': 'AAA', 'R': 'ZZZ'},\n",
       "  'ZZZ': {'L': 'ZZZ', 'R': 'ZZZ'}}}"
      ]
     },
     "execution_count": 30,
     "metadata": {},
     "output_type": "execute_result"
    }
   ],
   "source": [
    "day08.parse_data(day08.read_data('test_input08_2.txt'))"
   ]
  },
  {
   "cell_type": "code",
   "execution_count": 32,
   "id": "b8582e43-b6ee-479f-88bc-c3dc5194be0c",
   "metadata": {},
   "outputs": [
    {
     "name": "stdout",
     "output_type": "stream",
     "text": [
      "AAA\n",
      "BBB\n",
      "AAA\n",
      "BBB\n",
      "AAA\n",
      "BBB\n"
     ]
    },
    {
     "data": {
      "text/plain": [
       "6"
      ]
     },
     "execution_count": 32,
     "metadata": {},
     "output_type": "execute_result"
    }
   ],
   "source": [
    "day08.solve_p1('test_input08_2.txt', verbose=True)"
   ]
  },
  {
   "cell_type": "code",
   "execution_count": 34,
   "id": "85f2c8b8-76bf-47d7-9510-289f3f4d9f84",
   "metadata": {},
   "outputs": [
    {
     "name": "stdout",
     "output_type": "stream",
     "text": [
      "AAA\n",
      "CCC\n"
     ]
    },
    {
     "data": {
      "text/plain": [
       "2"
      ]
     },
     "execution_count": 34,
     "metadata": {},
     "output_type": "execute_result"
    }
   ],
   "source": [
    "day08.solve_p1('test_input08_1.txt', verbose=True)"
   ]
  },
  {
   "cell_type": "code",
   "execution_count": 37,
   "id": "9578dc5b-bcf2-4a6c-819a-aee74b164552",
   "metadata": {},
   "outputs": [
    {
     "data": {
      "text/plain": [
       "15989"
      ]
     },
     "execution_count": 37,
     "metadata": {},
     "output_type": "execute_result"
    }
   ],
   "source": [
    "day08.solve_p1('input08.txt', verbose=False)"
   ]
  },
  {
   "cell_type": "code",
   "execution_count": 53,
   "id": "a061a7f7-bad8-489d-9af5-7f154142e467",
   "metadata": {},
   "outputs": [
    {
     "name": "stdout",
     "output_type": "stream",
     "text": [
      "['11A', '22A']\n",
      "['11B', '22B']\n",
      "['11Z', '22C']\n",
      "['11B', '22Z']\n",
      "['11Z', '22B']\n",
      "['11B', '22C']\n"
     ]
    },
    {
     "data": {
      "text/plain": [
       "6"
      ]
     },
     "execution_count": 53,
     "metadata": {},
     "output_type": "execute_result"
    }
   ],
   "source": [
    "reload(day08)\n",
    "\n",
    "day08.solve_p2('test_input08_3.txt', verbose=True)"
   ]
  },
  {
   "cell_type": "code",
   "execution_count": 93,
   "id": "a7ef7a38-1bba-41cd-8f42-341bdbd72b81",
   "metadata": {},
   "outputs": [
    {
     "name": "stdout",
     "output_type": "stream",
     "text": [
      "CPU times: user 4 µs, sys: 3 µs, total: 7 µs\n",
      "Wall time: 46 µs\n"
     ]
    },
    {
     "data": {
      "text/plain": [
       "13830919117339"
      ]
     },
     "execution_count": 93,
     "metadata": {},
     "output_type": "execute_result"
    }
   ],
   "source": [
    "%time \n",
    "reload(day08)\n",
    "\n",
    "day08.solve_p2_smart('input08.txt')"
   ]
  },
  {
   "cell_type": "markdown",
   "id": "81a741f7-618b-4d9a-b4af-f844ebb828c3",
   "metadata": {},
   "source": [
    "# The necessary analysis of the graph"
   ]
  },
  {
   "cell_type": "code",
   "execution_count": 3,
   "id": "94174dcb-41e3-4e9a-8efd-497fe453fc7f",
   "metadata": {},
   "outputs": [],
   "source": [
    "data = day08.parse_data(day08.read_data('input08.txt'))"
   ]
  },
  {
   "cell_type": "code",
   "execution_count": 5,
   "id": "b5a5b6de-d25f-46be-b795-0b0c5fd7a727",
   "metadata": {},
   "outputs": [],
   "source": [
    "graph = data['graph']"
   ]
  },
  {
   "cell_type": "code",
   "execution_count": 9,
   "id": "f019e7c5-f87f-4c41-9175-9a4afd5a9a85",
   "metadata": {},
   "outputs": [
    {
     "data": {
      "text/plain": [
       "['ZZZ', 'RCZ', 'TVZ', 'KMZ', 'MRZ', 'JVZ']"
      ]
     },
     "execution_count": 9,
     "metadata": {},
     "output_type": "execute_result"
    }
   ],
   "source": [
    "[k for k in data['graph'] if k[2]=='Z']"
   ]
  },
  {
   "cell_type": "code",
   "execution_count": 10,
   "id": "e7b6ebf4-65a4-401e-8745-d7f6ff115ecd",
   "metadata": {},
   "outputs": [
    {
     "data": {
      "text/plain": [
       "['DFA', 'BLA', 'TGA', 'AAA', 'PQA', 'CQA']"
      ]
     },
     "execution_count": 10,
     "metadata": {},
     "output_type": "execute_result"
    }
   ],
   "source": [
    "[k for k in data['graph'] if k[2]=='A']"
   ]
  },
  {
   "cell_type": "code",
   "execution_count": 34,
   "id": "1310a241-5f0a-492b-9fb1-56824ddad6cb",
   "metadata": {},
   "outputs": [
    {
     "data": {
      "text/plain": [
       "[(18157, 'MRZ'),\n",
       " (36314, 'MRZ'),\n",
       " (54471, 'MRZ'),\n",
       " (72628, 'MRZ'),\n",
       " (90785, 'MRZ')]"
      ]
     },
     "execution_count": 34,
     "metadata": {},
     "output_type": "execute_result"
    }
   ],
   "source": [
    "find_next_zs('DFA', data['graph'], data['turns'], 100000)"
   ]
  },
  {
   "cell_type": "code",
   "execution_count": 35,
   "id": "4b10243c-573c-4441-8268-15bad81a789f",
   "metadata": {},
   "outputs": [
    {
     "data": {
      "text/plain": [
       "[(14363, 'KMZ'),\n",
       " (28726, 'KMZ'),\n",
       " (43089, 'KMZ'),\n",
       " (57452, 'KMZ'),\n",
       " (71815, 'KMZ'),\n",
       " (86178, 'KMZ')]"
      ]
     },
     "execution_count": 35,
     "metadata": {},
     "output_type": "execute_result"
    }
   ],
   "source": [
    "find_next_zs('BLA', data['graph'], data['turns'], 100000)"
   ]
  },
  {
   "cell_type": "code",
   "execution_count": 36,
   "id": "d44780f1-8246-49a1-873e-45500cd1aa76",
   "metadata": {},
   "outputs": [
    {
     "data": {
      "text/plain": [
       "[(19783, 'JVZ'),\n",
       " (39566, 'JVZ'),\n",
       " (59349, 'JVZ'),\n",
       " (79132, 'JVZ'),\n",
       " (98915, 'JVZ')]"
      ]
     },
     "execution_count": 36,
     "metadata": {},
     "output_type": "execute_result"
    }
   ],
   "source": [
    "find_next_zs('TGA', data['graph'], data['turns'], 100000)"
   ]
  },
  {
   "cell_type": "code",
   "execution_count": 37,
   "id": "1549589e-434b-4bd5-af80-972f67a27897",
   "metadata": {},
   "outputs": [
    {
     "data": {
      "text/plain": [
       "[(15989, 'ZZZ'),\n",
       " (31978, 'ZZZ'),\n",
       " (47967, 'ZZZ'),\n",
       " (63956, 'ZZZ'),\n",
       " (79945, 'ZZZ'),\n",
       " (95934, 'ZZZ')]"
      ]
     },
     "execution_count": 37,
     "metadata": {},
     "output_type": "execute_result"
    }
   ],
   "source": [
    "find_next_zs('AAA', data['graph'], data['turns'], 100000)"
   ]
  },
  {
   "cell_type": "code",
   "execution_count": 38,
   "id": "6ebf8141-c912-47f2-abb7-68695a277434",
   "metadata": {},
   "outputs": [
    {
     "data": {
      "text/plain": [
       "[(19241, 'TVZ'),\n",
       " (38482, 'TVZ'),\n",
       " (57723, 'TVZ'),\n",
       " (76964, 'TVZ'),\n",
       " (96205, 'TVZ')]"
      ]
     },
     "execution_count": 38,
     "metadata": {},
     "output_type": "execute_result"
    }
   ],
   "source": [
    "find_next_zs('PQA', data['graph'], data['turns'], 100000)"
   ]
  },
  {
   "cell_type": "code",
   "execution_count": 39,
   "id": "9d6e17a9-6bb6-44ba-b904-c51bcf8246a0",
   "metadata": {},
   "outputs": [
    {
     "data": {
      "text/plain": [
       "[(12737, 'RCZ'),\n",
       " (25474, 'RCZ'),\n",
       " (38211, 'RCZ'),\n",
       " (50948, 'RCZ'),\n",
       " (63685, 'RCZ'),\n",
       " (76422, 'RCZ'),\n",
       " (89159, 'RCZ')]"
      ]
     },
     "execution_count": 39,
     "metadata": {},
     "output_type": "execute_result"
    }
   ],
   "source": [
    "find_next_zs('CQA', data['graph'], data['turns'], 100000)"
   ]
  },
  {
   "cell_type": "code",
   "execution_count": 95,
   "id": "c5049a89-b931-4453-9106-0245212c41d6",
   "metadata": {},
   "outputs": [
    {
     "data": {
      "text/plain": [
       "{'L': 'MRQ', 'R': 'FGM'}"
      ]
     },
     "execution_count": 95,
     "metadata": {},
     "output_type": "execute_result"
    }
   ],
   "source": [
    "graph['CQA']"
   ]
  },
  {
   "cell_type": "code",
   "execution_count": 96,
   "id": "ecc4af17-3efd-4c0c-babb-22a343f16a82",
   "metadata": {},
   "outputs": [
    {
     "data": {
      "text/plain": [
       "{'L': 'FGM', 'R': 'MRQ'}"
      ]
     },
     "execution_count": 96,
     "metadata": {},
     "output_type": "execute_result"
    }
   ],
   "source": [
    "graph['RCZ']"
   ]
  },
  {
   "cell_type": "code",
   "execution_count": 98,
   "id": "a493eaad-9c57-470f-a2dc-e1559a7d3c19",
   "metadata": {},
   "outputs": [
    {
     "data": {
      "text/plain": [
       "{'L': 'SJQ', 'R': 'NDQ'}"
      ]
     },
     "execution_count": 98,
     "metadata": {},
     "output_type": "execute_result"
    }
   ],
   "source": [
    "graph['MRQ']"
   ]
  },
  {
   "cell_type": "code",
   "execution_count": 99,
   "id": "c8f6461d-7721-47da-929d-211440b70ac0",
   "metadata": {},
   "outputs": [
    {
     "data": {
      "text/plain": [
       "{'L': 'NDQ', 'R': 'SJQ'}"
      ]
     },
     "execution_count": 99,
     "metadata": {},
     "output_type": "execute_result"
    }
   ],
   "source": [
    "graph['FGM']"
   ]
  },
  {
   "cell_type": "code",
   "execution_count": 100,
   "id": "f2933d6b-c4b0-4868-aba1-f6ed6470db6a",
   "metadata": {},
   "outputs": [
    {
     "data": {
      "text/plain": [
       "{'L': 'NQF', 'R': 'GGG'}"
      ]
     },
     "execution_count": 100,
     "metadata": {},
     "output_type": "execute_result"
    }
   ],
   "source": [
    "graph['NDQ']"
   ]
  },
  {
   "cell_type": "code",
   "execution_count": 101,
   "id": "761202fb-36dd-4fe2-9711-acbf9c4481d2",
   "metadata": {},
   "outputs": [
    {
     "data": {
      "text/plain": [
       "{'L': 'GGG', 'R': 'NQF'}"
      ]
     },
     "execution_count": 101,
     "metadata": {},
     "output_type": "execute_result"
    }
   ],
   "source": [
    "graph['SJQ']"
   ]
  },
  {
   "cell_type": "markdown",
   "id": "288cf3dd-d5cc-431f-b0c4-92477406d739",
   "metadata": {},
   "source": [
    "# Some research in smallest common denominator"
   ]
  },
  {
   "cell_type": "code",
   "execution_count": 72,
   "id": "b964cfbd-31d9-45f7-a882-b5c45b9e7f44",
   "metadata": {},
   "outputs": [],
   "source": [
    "def find_common_multiple_2numbers(n1, n2):\n",
    "    i = 1\n",
    "    while (n1 * i) % n2 != 0:\n",
    "        i += 1 \n",
    "    return n1 * i"
   ]
  },
  {
   "cell_type": "code",
   "execution_count": 74,
   "id": "57de279b-4522-40e8-8386-e4f9b7540cf8",
   "metadata": {},
   "outputs": [],
   "source": [
    "def find_common_multiple_rec(numbers):\n",
    "    if len(numbers) == 2:\n",
    "        return find_common_multiple_2numbers(numbers[0], numbers[1])\n",
    "    else:\n",
    "        return find_common_multiple_2numbers(numbers[0], find_common_multiple_rec(numbers[1:]))"
   ]
  },
  {
   "cell_type": "code",
   "execution_count": 81,
   "id": "8ede5fec-9640-49b1-85e7-7c52d33a12f0",
   "metadata": {},
   "outputs": [],
   "source": [
    "def find_common_multiple_iter(numbers):\n",
    "    cm_so_far = find_common_multiple_2numbers(numbers[0], numbers[1])\n",
    "    for i in range(2,len(numbers)):\n",
    "        cm_so_far = find_common_multiple_2numbers(cm_so_far, numbers[i])\n",
    "        \n",
    "    return cm_so_far"
   ]
  },
  {
   "cell_type": "code",
   "execution_count": 79,
   "id": "03679f93-2f55-446f-94a0-f26a94f22d34",
   "metadata": {},
   "outputs": [
    {
     "name": "stdout",
     "output_type": "stream",
     "text": [
      "CPU times: user 1.46 s, sys: 3.29 ms, total: 1.46 s\n",
      "Wall time: 1.46 s\n"
     ]
    },
    {
     "data": {
      "text/plain": [
       "294274874837"
      ]
     },
     "execution_count": 79,
     "metadata": {},
     "output_type": "execute_result"
    }
   ],
   "source": [
    "%%time\n",
    "find_common_multiple_rec(cycle_sizes[:5])"
   ]
  },
  {
   "cell_type": "code",
   "execution_count": 83,
   "id": "f3788038-8e59-49dc-8119-667387da4dc2",
   "metadata": {},
   "outputs": [
    {
     "name": "stdout",
     "output_type": "stream",
     "text": [
      "CPU times: user 66 µs, sys: 1 µs, total: 67 µs\n",
      "Wall time: 71.8 µs\n"
     ]
    },
    {
     "data": {
      "text/plain": [
       "294274874837"
      ]
     },
     "execution_count": 83,
     "metadata": {},
     "output_type": "execute_result"
    }
   ],
   "source": [
    "%%time\n",
    "find_common_multiple_iter(cycle_sizes[:5])"
   ]
  },
  {
   "cell_type": "markdown",
   "id": "c7bf88a9-5883-4fa4-9e33-7a5b9330429a",
   "metadata": {},
   "source": [
    "# graphs"
   ]
  },
  {
   "cell_type": "code",
   "execution_count": null,
   "id": "bd65c6f5-ab5d-42c2-be10-9ba07ea87778",
   "metadata": {},
   "outputs": [
    {
     "name": "stdout",
     "output_type": "stream",
     "text": [
      "Looking in indexes: https://artifactory.spotify.net/artifactory/api/pypi/pypi/simple/\n"
     ]
    }
   ],
   "source": [
    "!pip install graphviz"
   ]
  },
  {
   "cell_type": "code",
   "execution_count": 104,
   "id": "9eeeb3d5-5455-4efc-a79d-1fca0983460a",
   "metadata": {},
   "outputs": [
    {
     "ename": "ModuleNotFoundError",
     "evalue": "No module named 'graphviz'",
     "output_type": "error",
     "traceback": [
      "\u001b[0;31m---------------------------------------------------------------------------\u001b[0m",
      "\u001b[0;31mModuleNotFoundError\u001b[0m                       Traceback (most recent call last)",
      "Cell \u001b[0;32mIn[104], line 1\u001b[0m\n\u001b[0;32m----> 1\u001b[0m \u001b[38;5;28;01mimport\u001b[39;00m \u001b[38;5;21;01mgraphviz\u001b[39;00m  \u001b[38;5;66;03m# doctest: +NO_EXE\u001b[39;00m\n\u001b[1;32m      2\u001b[0m dot \u001b[38;5;241m=\u001b[39m graphviz\u001b[38;5;241m.\u001b[39mDigraph(comment\u001b[38;5;241m=\u001b[39m\u001b[38;5;124m'\u001b[39m\u001b[38;5;124mThe Round Table\u001b[39m\u001b[38;5;124m'\u001b[39m)\n",
      "\u001b[0;31mModuleNotFoundError\u001b[0m: No module named 'graphviz'"
     ]
    }
   ],
   "source": [
    "import graphviz  # doctest: +NO_EXE\n",
    "dot = graphviz.Digraph(comment='The Round Table')\n"
   ]
  },
  {
   "cell_type": "code",
   "execution_count": null,
   "id": "9626ebc4-5653-470f-bc40-9c30f677fc9f",
   "metadata": {},
   "outputs": [],
   "source": []
  }
 ],
 "metadata": {
  "kernelspec": {
   "display_name": "Python 3 (ipykernel)",
   "language": "python",
   "name": "python3"
  },
  "language_info": {
   "codemirror_mode": {
    "name": "ipython",
    "version": 3
   },
   "file_extension": ".py",
   "mimetype": "text/x-python",
   "name": "python",
   "nbconvert_exporter": "python",
   "pygments_lexer": "ipython3",
   "version": "3.8.14"
  }
 },
 "nbformat": 4,
 "nbformat_minor": 5
}
