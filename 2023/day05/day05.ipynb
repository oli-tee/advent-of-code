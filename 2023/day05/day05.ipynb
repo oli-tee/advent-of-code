{
 "cells": [
  {
   "cell_type": "code",
   "execution_count": 103,
   "id": "302577a3-68ad-4f76-9bf1-f54d295448de",
   "metadata": {},
   "outputs": [
    {
     "data": {
      "text/plain": [
       "<module 'day05' from '/Users/olit/git_tree/advent-of-code/2023/day05/day05.py'>"
      ]
     },
     "execution_count": 103,
     "metadata": {},
     "output_type": "execute_result"
    }
   ],
   "source": [
    "from importlib import reload\n",
    "import day05\n",
    "import numpy as np\n",
    "import re\n",
    "reload(day05)"
   ]
  },
  {
   "cell_type": "code",
   "execution_count": 25,
   "id": "04f55cbb-653b-4547-9cf9-b344d0b58fae",
   "metadata": {},
   "outputs": [
    {
     "data": {
      "text/plain": [
       "35"
      ]
     },
     "execution_count": 25,
     "metadata": {},
     "output_type": "execute_result"
    }
   ],
   "source": [
    "day05.solve_p1('test_input05.txt')"
   ]
  },
  {
   "cell_type": "code",
   "execution_count": 26,
   "id": "b664ea43-05dc-4011-b772-ac2b0719477c",
   "metadata": {},
   "outputs": [
    {
     "data": {
      "text/plain": [
       "177942185"
      ]
     },
     "execution_count": 26,
     "metadata": {},
     "output_type": "execute_result"
    }
   ],
   "source": [
    "day05.solve_p1('input05.txt')"
   ]
  },
  {
   "cell_type": "code",
   "execution_count": 114,
   "id": "2b1e2c77-6d08-49db-9bd1-8e37db390cbb",
   "metadata": {},
   "outputs": [
    {
     "data": {
      "text/plain": [
       "46"
      ]
     },
     "execution_count": 114,
     "metadata": {},
     "output_type": "execute_result"
    }
   ],
   "source": [
    "reload(day05)\n",
    "day05.solve_p2('test_input05.txt')"
   ]
  },
  {
   "cell_type": "code",
   "execution_count": 117,
   "id": "397157b8-9e6f-403a-83c2-64994e2f789d",
   "metadata": {},
   "outputs": [
    {
     "name": "stdout",
     "output_type": "stream",
     "text": [
      "CPU times: user 13.8 ms, sys: 3.12 ms, total: 16.9 ms\n",
      "Wall time: 19.1 ms\n"
     ]
    },
    {
     "data": {
      "text/plain": [
       "69841803"
      ]
     },
     "execution_count": 117,
     "metadata": {},
     "output_type": "execute_result"
    }
   ],
   "source": [
    "%%time \n",
    "reload(day05)\n",
    "day05.solve_p2('input05.txt')"
   ]
  },
  {
   "cell_type": "code",
   "execution_count": null,
   "id": "78932410-b5a2-4e77-abf7-2b4be2a6b21a",
   "metadata": {},
   "outputs": [],
   "source": []
  }
 ],
 "metadata": {
  "kernelspec": {
   "display_name": "Python 3 (ipykernel)",
   "language": "python",
   "name": "python3"
  },
  "language_info": {
   "codemirror_mode": {
    "name": "ipython",
    "version": 3
   },
   "file_extension": ".py",
   "mimetype": "text/x-python",
   "name": "python",
   "nbconvert_exporter": "python",
   "pygments_lexer": "ipython3",
   "version": "3.8.14"
  }
 },
 "nbformat": 4,
 "nbformat_minor": 5
}
