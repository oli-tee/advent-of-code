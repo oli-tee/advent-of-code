{
 "cells": [
  {
   "cell_type": "code",
   "execution_count": 101,
   "id": "302577a3-68ad-4f76-9bf1-f54d295448de",
   "metadata": {},
   "outputs": [
    {
     "data": {
      "text/plain": [
       "<module 'day05' from '/Users/olit/git_tree/advent-of-code/2023/day05/day05.py'>"
      ]
     },
     "execution_count": 101,
     "metadata": {},
     "output_type": "execute_result"
    }
   ],
   "source": [
    "from importlib import reload\n",
    "import day05\n",
    "import numpy as np\n",
    "import re\n",
    "reload(day05)"
   ]
  },
  {
   "cell_type": "code",
   "execution_count": 25,
   "id": "04f55cbb-653b-4547-9cf9-b344d0b58fae",
   "metadata": {},
   "outputs": [
    {
     "data": {
      "text/plain": [
       "35"
      ]
     },
     "execution_count": 25,
     "metadata": {},
     "output_type": "execute_result"
    }
   ],
   "source": [
    "day05.solve_p1('test_input05.txt')"
   ]
  },
  {
   "cell_type": "code",
   "execution_count": 26,
   "id": "b664ea43-05dc-4011-b772-ac2b0719477c",
   "metadata": {},
   "outputs": [
    {
     "data": {
      "text/plain": [
       "177942185"
      ]
     },
     "execution_count": 26,
     "metadata": {},
     "output_type": "execute_result"
    }
   ],
   "source": [
    "day05.solve_p1('input05.txt')"
   ]
  },
  {
   "cell_type": "code",
   "execution_count": 16,
   "id": "e477711f-0b6d-4f84-91c9-38ec657a124e",
   "metadata": {},
   "outputs": [
    {
     "data": {
      "text/plain": [
       "1807562333"
      ]
     },
     "execution_count": 16,
     "metadata": {},
     "output_type": "execute_result"
    }
   ],
   "source": [
    " 6916147 + 146720986 + 244427042 + 382175449 + 2036236 + 127044950 + 93904335 + 123906789 + 620379445 + 60050954"
   ]
  },
  {
   "cell_type": "code",
   "execution_count": 28,
   "id": "18549036-36b2-40dd-8493-9be22f035219",
   "metadata": {},
   "outputs": [
    {
     "data": {
      "text/plain": [
       "{'seeds': [79, 14, 55, 13],\n",
       " 'maps': {'seed-to-soil': [(50, 98, 2), (52, 50, 48)],\n",
       "  'soil-to-fertilizer': [(0, 15, 37), (37, 52, 2), (39, 0, 15)],\n",
       "  'fertilizer-to-water': [(49, 53, 8), (0, 11, 42), (42, 0, 7), (57, 7, 4)],\n",
       "  'water-to-light': [(88, 18, 7), (18, 25, 70)],\n",
       "  'light-to-temperature': [(45, 77, 23), (81, 45, 19), (68, 64, 13)],\n",
       "  'temperature-to-humidity': [(0, 69, 1), (1, 0, 69)],\n",
       "  'humidity-to-location': [(60, 56, 37), (56, 93, 4)]}}"
      ]
     },
     "execution_count": 28,
     "metadata": {},
     "output_type": "execute_result"
    }
   ],
   "source": [
    "reload(day05)\n",
    "day05.parse_data_p1(day05.read_data('test_input05.txt'))"
   ]
  },
  {
   "cell_type": "code",
   "execution_count": 102,
   "id": "531de8cd-6cb0-40e6-abaf-1c0ee30688dc",
   "metadata": {},
   "outputs": [
    {
     "data": {
      "text/plain": [
       "{'seeds': [(79, 93), (55, 68)],\n",
       " 'maps': {'seed-to-soil': [(98, 100, -48), (50, 98, 2)],\n",
       "  'soil-to-fertilizer': [(15, 52, -15), (52, 54, -15), (0, 15, 39)],\n",
       "  'fertilizer-to-water': [(53, 61, -4),\n",
       "   (11, 53, -11),\n",
       "   (0, 7, 42),\n",
       "   (7, 11, 50)],\n",
       "  'water-to-light': [(18, 25, 70), (25, 95, -7)],\n",
       "  'light-to-temperature': [(77, 100, -32), (45, 64, 36), (64, 77, 4)],\n",
       "  'temperature-to-humidity': [(69, 70, -69), (0, 69, 1)],\n",
       "  'humidity-to-location': [(56, 93, 4), (93, 97, -37)]}}"
      ]
     },
     "execution_count": 102,
     "metadata": {},
     "output_type": "execute_result"
    }
   ],
   "source": [
    "reload(day05)\n",
    "day05.parse_data_p2(day05.read_data('test_input05.txt'))"
   ]
  },
  {
   "cell_type": "raw",
   "id": "4b8ad60e-b66b-4591-9281-6ca55d8ff904",
   "metadata": {},
   "source": [
    "input_range = (10, 90)\n",
    "maps2 = [(20, 40, -4), (50, 60, -2), (60, 100, -3)]\n",
    "#output:\n",
    "[(10, 20, 0), (20, 40, -4), (40, 50, 0), (50, 60, -2), (60, 90, -3)]\n",
    "[(10, 20), (16, 36), (40, 50), (48, 58), (57, 87)]"
   ]
  },
  {
   "cell_type": "code",
   "execution_count": null,
   "id": "d3d6e2c1-9836-473c-9d77-2fb438a06810",
   "metadata": {},
   "outputs": [],
   "source": [
    "def convert_range(input_range, maps2):\n",
    "    splits = [map2[0] for map2 in maps2] + [map2[1] for map2 in maps2] + [input_range[0], input_range[1]]\n",
    "    splits =list(set(splits))\n",
    "    splits = sorted(splits)\n",
    "    splits = [s for s in splits if s >= input_range[0] and s <= input_range[1]]\n",
    "    \n",
    "    output_ranges_before_offset = [(splits[i], splits[i+1]) for i in range(len(splits)-1)]\n",
    "    \n",
    "    result = []\n",
    "    for output_range in output_ranges_before_offset:\n",
    "        offset = 0\n",
    "        for map_range in maps2:\n",
    "            #print(f\"{output_range} / {map_range}\")\n",
    "            if output_range[0] >= map_range[0] and output_range[1] <= map_range[1]:\n",
    "                offset = map_range[2]\n",
    "\n",
    "        result.append((output_range[0] + offset, output_range[1] + offset))\n",
    "        \n",
    "    return result"
   ]
  },
  {
   "cell_type": "code",
   "execution_count": 83,
   "id": "2b1e2c77-6d08-49db-9bd1-8e37db390cbb",
   "metadata": {},
   "outputs": [],
   "source": []
  },
  {
   "cell_type": "code",
   "execution_count": 88,
   "id": "64aacf95-d704-4fc1-9a78-6a9617055eb3",
   "metadata": {},
   "outputs": [],
   "source": []
  },
  {
   "cell_type": "code",
   "execution_count": 89,
   "id": "579c3895-7d95-4667-b19a-8fd86fbd34a7",
   "metadata": {},
   "outputs": [
    {
     "data": {
      "text/plain": [
       "[10, 20, 40, 50, 60, 90]"
      ]
     },
     "execution_count": 89,
     "metadata": {},
     "output_type": "execute_result"
    }
   ],
   "source": [
    "splits"
   ]
  },
  {
   "cell_type": "code",
   "execution_count": 90,
   "id": "ce7f090e-6b4e-44dc-9acb-e8b43059460b",
   "metadata": {},
   "outputs": [],
   "source": []
  },
  {
   "cell_type": "code",
   "execution_count": 91,
   "id": "816c04d4-ab7f-46dd-8564-559997a19ed3",
   "metadata": {},
   "outputs": [
    {
     "data": {
      "text/plain": [
       "[(10, 20), (20, 40), (40, 50), (50, 60), (60, 90)]"
      ]
     },
     "execution_count": 91,
     "metadata": {},
     "output_type": "execute_result"
    }
   ],
   "source": [
    "output_ranges_before_offset"
   ]
  },
  {
   "cell_type": "code",
   "execution_count": 92,
   "id": "7d033581-2e65-46f3-8480-520f29ad7207",
   "metadata": {},
   "outputs": [
    {
     "ename": "TypeError",
     "evalue": "can only concatenate tuple (not \"int\") to tuple",
     "output_type": "error",
     "traceback": [
      "\u001b[0;31m---------------------------------------------------------------------------\u001b[0m",
      "\u001b[0;31mTypeError\u001b[0m                                 Traceback (most recent call last)",
      "Cell \u001b[0;32mIn[92], line 1\u001b[0m\n\u001b[0;32m----> 1\u001b[0m \u001b[43m(\u001b[49m\u001b[38;5;241;43m1\u001b[39;49m\u001b[43m,\u001b[49m\u001b[38;5;241;43m2\u001b[39;49m\u001b[43m)\u001b[49m\u001b[43m \u001b[49m\u001b[38;5;241;43m+\u001b[39;49m\u001b[43m \u001b[49m\u001b[38;5;241;43m3\u001b[39;49m\n",
      "\u001b[0;31mTypeError\u001b[0m: can only concatenate tuple (not \"int\") to tuple"
     ]
    }
   ],
   "source": [
    "(1,2) + 3"
   ]
  },
  {
   "cell_type": "code",
   "execution_count": 99,
   "id": "397157b8-9e6f-403a-83c2-64994e2f789d",
   "metadata": {},
   "outputs": [],
   "source": []
  },
  {
   "cell_type": "code",
   "execution_count": null,
   "id": "78932410-b5a2-4e77-abf7-2b4be2a6b21a",
   "metadata": {},
   "outputs": [],
   "source": []
  }
 ],
 "metadata": {
  "kernelspec": {
   "display_name": "Python 3 (ipykernel)",
   "language": "python",
   "name": "python3"
  },
  "language_info": {
   "codemirror_mode": {
    "name": "ipython",
    "version": 3
   },
   "file_extension": ".py",
   "mimetype": "text/x-python",
   "name": "python",
   "nbconvert_exporter": "python",
   "pygments_lexer": "ipython3",
   "version": "3.8.14"
  }
 },
 "nbformat": 4,
 "nbformat_minor": 5
}
