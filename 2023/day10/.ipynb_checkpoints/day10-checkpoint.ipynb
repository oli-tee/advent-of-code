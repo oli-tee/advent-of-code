{
 "cells": [
  {
   "cell_type": "code",
   "execution_count": 15,
   "id": "bb435265-d122-4341-9e41-40843df0e3cd",
   "metadata": {},
   "outputs": [
    {
     "data": {
      "text/plain": [
       "<module 'day10' from '/Users/olit/git_tree/advent-of-code/2023/day10/day10.py'>"
      ]
     },
     "execution_count": 15,
     "metadata": {},
     "output_type": "execute_result"
    }
   ],
   "source": [
    "from importlib import reload\n",
    "import day10\n",
    "reload(day10)"
   ]
  },
  {
   "cell_type": "code",
   "execution_count": 16,
   "id": "762a496c-32fd-46d8-9775-dc3ef22e41e9",
   "metadata": {},
   "outputs": [],
   "source": [
    "data =day10.read_data(\"test_input10_1.txt\")"
   ]
  },
  {
   "cell_type": "code",
   "execution_count": 17,
   "id": "8bf27b2f-0e47-4520-8718-5d48f18ccd6f",
   "metadata": {},
   "outputs": [
    {
     "data": {
      "text/plain": [
       "5"
      ]
     },
     "execution_count": 17,
     "metadata": {},
     "output_type": "execute_result"
    }
   ],
   "source": [
    "len(data)"
   ]
  },
  {
   "cell_type": "code",
   "execution_count": 18,
   "id": "913cf2cc-9285-4a15-989f-408f93c64c29",
   "metadata": {},
   "outputs": [
    {
     "data": {
      "text/plain": [
       "5"
      ]
     },
     "execution_count": 18,
     "metadata": {},
     "output_type": "execute_result"
    }
   ],
   "source": [
    "len(data[0])"
   ]
  },
  {
   "cell_type": "code",
   "execution_count": 19,
   "id": "c8af8d46-642c-4f1b-a8bd-08b5d4629409",
   "metadata": {},
   "outputs": [
    {
     "data": {
      "text/plain": [
       "19600"
      ]
     },
     "execution_count": 19,
     "metadata": {},
     "output_type": "execute_result"
    }
   ],
   "source": [
    "140*140"
   ]
  },
  {
   "cell_type": "code",
   "execution_count": null,
   "id": "2c7e3f97-d146-403f-bac9-4325255edcf3",
   "metadata": {},
   "outputs": [],
   "source": []
  },
  {
   "cell_type": "code",
   "execution_count": 20,
   "id": "19a6e057-b075-4c05-80ed-477773a02dbd",
   "metadata": {},
   "outputs": [
    {
     "data": {
      "text/plain": [
       "['-L|F7', '7S-7|', 'L|7||', '-L-J|', 'L|-JF']"
      ]
     },
     "execution_count": 20,
     "metadata": {},
     "output_type": "execute_result"
    }
   ],
   "source": [
    "data"
   ]
  },
  {
   "cell_type": "code",
   "execution_count": 24,
   "id": "7cf10d7d-0871-4942-9110-08ea16584fd6",
   "metadata": {},
   "outputs": [],
   "source": [
    "from collections import defaultdict"
   ]
  },
  {
   "cell_type": "code",
   "execution_count": 39,
   "id": "49ce12f9-6608-42ab-a08e-7bb3b2de4feb",
   "metadata": {},
   "outputs": [],
   "source": [
    "def connect_up(row, col, data, graph):\n",
    "    if row > 0 and data[row-1][col] in ['F', '7', '|']:\n",
    "        graph[(row, col)].append((row-1, col))\n",
    "    return graph\n",
    "\n",
    "def connect_left(row, col, data, graph):\n",
    "    if col > 0 and data[row][col-1] in ['F', 'L', '-']:\n",
    "        graph[(row, col)].append((row, col-1))\n",
    "    return graph\n",
    "\n",
    "def connect_down(row, col, data, graph):\n",
    "    if row < len(data)-1 and data[row+1][col] in ['L', 'J', '|']:\n",
    "        graph[(row, col)].append((row+1, col))\n",
    "    return graph\n",
    "\n",
    "\n",
    "def connect_right(row, col, data, graph):\n",
    "    if col < len(data[row])-1 and data[row][col+1] in ['J', '7', '-']:\n",
    "        graph[(row, col)].append((row, col+1))\n",
    "    return graph\n"
   ]
  },
  {
   "cell_type": "code",
   "execution_count": 40,
   "id": "87a4a7d1-3030-41be-9fd6-ae6c42128887",
   "metadata": {},
   "outputs": [],
   "source": [
    "graph = defaultdict(list)\n",
    "for row in range(len(data)):\n",
    "    for col in range(len(data[row])):\n",
    "        char = data[row][col]\n",
    "        #print(char)\n",
    "        if char == 'L':\n",
    "            connect_up(row, col, data, graph)\n",
    "            connect_right(row, col, data, graph)\n",
    "        elif char == 'J':\n",
    "            connect_left(row, col, data, graph)\n",
    "            connect_up(row, col, data, graph)\n",
    "        elif char == 'J':\n",
    "            connect_left(row, col, data, graph)\n",
    "            connect_up(row, col, data, graph)\n",
    "        elif char == 'J':\n",
    "            connect_left(row, col, data, graph)\n",
    "            connect_up(row, col, data, graph)\n",
    "        elif char == 'J':\n",
    "            connect_left(row, col, data, graph)\n",
    "            connect_up(row, col, data, graph)\n",
    "        elif char == 'J':\n",
    "            connect_left(row, col, data, graph)\n",
    "            connect_up(row, col, data, graph)\n",
    "        elif char == 'J':\n",
    "            connect_left(row, col, data, graph)\n",
    "            connect_up(row, col, data, graph)\n",
    "        \n",
    "\n",
    "graph = dict(graph)"
   ]
  },
  {
   "cell_type": "code",
   "execution_count": 41,
   "id": "ae1d28bd-8e7c-4143-bf6f-db960354e417",
   "metadata": {},
   "outputs": [
    {
     "data": {
      "text/plain": [
       "{(2, 0): [(1, 0)],\n",
       " (3, 1): [(2, 1), (3, 2)],\n",
       " (3, 3): [(3, 2), (2, 3)],\n",
       " (4, 3): [(4, 2)]}"
      ]
     },
     "execution_count": 41,
     "metadata": {},
     "output_type": "execute_result"
    }
   ],
   "source": [
    "graph"
   ]
  },
  {
   "cell_type": "code",
   "execution_count": 31,
   "id": "efc6a1c9-b354-47ad-8d8d-9522158d5d24",
   "metadata": {},
   "outputs": [
    {
     "data": {
      "text/plain": [
       "defaultdict(list, {1: []})"
      ]
     },
     "execution_count": 31,
     "metadata": {},
     "output_type": "execute_result"
    }
   ],
   "source": [
    "graph"
   ]
  },
  {
   "cell_type": "code",
   "execution_count": null,
   "id": "78fd2fa7-c15a-43f4-ad37-0e013f2efa3b",
   "metadata": {},
   "outputs": [],
   "source": []
  }
 ],
 "metadata": {
  "kernelspec": {
   "display_name": "Python 3 (ipykernel)",
   "language": "python",
   "name": "python3"
  },
  "language_info": {
   "codemirror_mode": {
    "name": "ipython",
    "version": 3
   },
   "file_extension": ".py",
   "mimetype": "text/x-python",
   "name": "python",
   "nbconvert_exporter": "python",
   "pygments_lexer": "ipython3",
   "version": "3.8.14"
  }
 },
 "nbformat": 4,
 "nbformat_minor": 5
}
