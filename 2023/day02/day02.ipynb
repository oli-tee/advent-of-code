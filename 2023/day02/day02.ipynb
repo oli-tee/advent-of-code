{
 "cells": [
  {
   "cell_type": "code",
   "execution_count": 74,
   "id": "0ad6a8ab-9290-4618-bd6c-48b2a8deb98e",
   "metadata": {},
   "outputs": [
    {
     "data": {
      "text/plain": [
       "<module 'day02' from '/Users/olit/git_tree/advent-of-code/2023/day02/day02.py'>"
      ]
     },
     "execution_count": 74,
     "metadata": {},
     "output_type": "execute_result"
    }
   ],
   "source": [
    "import pytest\n",
    "from importlib import reload\n",
    "import day02\n",
    "reload(day02)"
   ]
  },
  {
   "cell_type": "raw",
   "id": "8daac1fe-7b2b-4219-a7fd-8aeaa01d114d",
   "metadata": {},
   "source": [
    "!pip install pytest"
   ]
  },
  {
   "cell_type": "code",
   "execution_count": 4,
   "id": "76c4ea63-a23b-4a24-97fa-49a34f1b64a6",
   "metadata": {},
   "outputs": [
    {
     "data": {
      "text/plain": [
       "<module 'pytest' from '/Users/olit/.pyenv/versions/3.8.14/lib/python3.8/site-packages/pytest/__init__.py'>"
      ]
     },
     "execution_count": 4,
     "metadata": {},
     "output_type": "execute_result"
    }
   ],
   "source": [
    "pytest"
   ]
  },
  {
   "cell_type": "code",
   "execution_count": 49,
   "id": "3e51d19a-1829-4fd2-9a20-5b88d4fa34fc",
   "metadata": {},
   "outputs": [],
   "source": [
    "x = day02.read_data(\"input02.txt\")"
   ]
  },
  {
   "cell_type": "code",
   "execution_count": 51,
   "id": "c9cd238d-e899-4b4a-bd89-a2dfff637f8a",
   "metadata": {},
   "outputs": [
    {
     "data": {
      "text/plain": [
       "[{'red': 1, 'green': 5, 'blue': 10},\n",
       " {'red': 0, 'green': 6, 'blue': 11},\n",
       " {'red': 0, 'green': 6, 'blue': 0},\n",
       " {'red': 1, 'green': 1, 'blue': 12},\n",
       " {'red': 0, 'green': 0, 'blue': 3},\n",
       " {'red': 1, 'green': 4, 'blue': 3}]"
      ]
     },
     "execution_count": 51,
     "metadata": {},
     "output_type": "execute_result"
    }
   ],
   "source": [
    "day02.parse_game(x[0])"
   ]
  },
  {
   "cell_type": "code",
   "execution_count": 54,
   "id": "91c48753-8f41-405d-b972-d60b613dad18",
   "metadata": {},
   "outputs": [
    {
     "data": {
      "text/plain": [
       "'Game 1: 1 red, 10 blue, 5 green; 11 blue, 6 green; 6 green; 1 green, 1 red, 12 blue; 3 blue; 3 blue, 4 green, 1 red'"
      ]
     },
     "execution_count": 54,
     "metadata": {},
     "output_type": "execute_result"
    }
   ],
   "source": [
    "x[0]"
   ]
  },
  {
   "cell_type": "code",
   "execution_count": 56,
   "id": "5a2be17e-527f-407b-8a24-4ae48d6889c2",
   "metadata": {},
   "outputs": [
    {
     "data": {
      "text/plain": [
       "False"
      ]
     },
     "execution_count": 56,
     "metadata": {},
     "output_type": "execute_result"
    }
   ],
   "source": [
    "reload(day02)\n",
    "day02.is_valid_game(x[0], 1,6,11)"
   ]
  },
  {
   "cell_type": "code",
   "execution_count": 47,
   "id": "27dfb8d8-1ff7-4adf-a93b-b160ebbc86ef",
   "metadata": {},
   "outputs": [],
   "source": [
    "reload(day02)\n",
    "draw = day02.parse_game(x[0])[0]"
   ]
  },
  {
   "cell_type": "code",
   "execution_count": 77,
   "id": "0c329f6a-1f68-42d2-92af-9739a19b9ad8",
   "metadata": {},
   "outputs": [
    {
     "name": "stdout",
     "output_type": "stream",
     "text": [
      "game 0 is valid!\n",
      "game 1 is valid!\n",
      "game 4 is valid!\n"
     ]
    },
    {
     "data": {
      "text/plain": [
       "8"
      ]
     },
     "execution_count": 77,
     "metadata": {},
     "output_type": "execute_result"
    }
   ],
   "source": [
    "reload(day02)\n",
    "day02.solve(day02.read_data(\"test_input.txt\"))"
   ]
  },
  {
   "cell_type": "code",
   "execution_count": null,
   "id": "0479875d-ab0f-4cb2-91a8-e75c4abe7c15",
   "metadata": {},
   "outputs": [],
   "source": [
    "reload(day02)\n",
    "day02.solve(day02.read_data(\"test_input.txt\"))"
   ]
  },
  {
   "cell_type": "code",
   "execution_count": 78,
   "id": "f7032266-217b-43cc-b5e9-db093d7ec8c2",
   "metadata": {},
   "outputs": [
    {
     "name": "stdout",
     "output_type": "stream",
     "text": [
      "game 0 is valid!\n",
      "game 1 is valid!\n",
      "game 2 is valid!\n",
      "game 5 is valid!\n",
      "game 6 is valid!\n",
      "game 7 is valid!\n",
      "game 9 is valid!\n",
      "game 14 is valid!\n",
      "game 17 is valid!\n",
      "game 19 is valid!\n",
      "game 21 is valid!\n",
      "game 23 is valid!\n",
      "game 24 is valid!\n",
      "game 25 is valid!\n",
      "game 30 is valid!\n",
      "game 32 is valid!\n",
      "game 33 is valid!\n",
      "game 38 is valid!\n",
      "game 39 is valid!\n",
      "game 41 is valid!\n",
      "game 45 is valid!\n",
      "game 46 is valid!\n",
      "game 48 is valid!\n",
      "game 50 is valid!\n",
      "game 51 is valid!\n",
      "game 55 is valid!\n",
      "game 56 is valid!\n",
      "game 57 is valid!\n",
      "game 60 is valid!\n",
      "game 61 is valid!\n",
      "game 62 is valid!\n",
      "game 65 is valid!\n",
      "game 68 is valid!\n",
      "game 69 is valid!\n",
      "game 71 is valid!\n",
      "game 72 is valid!\n",
      "game 73 is valid!\n",
      "game 74 is valid!\n",
      "game 75 is valid!\n",
      "game 79 is valid!\n",
      "game 81 is valid!\n",
      "game 82 is valid!\n",
      "game 83 is valid!\n",
      "game 86 is valid!\n",
      "game 87 is valid!\n",
      "game 91 is valid!\n",
      "game 93 is valid!\n",
      "game 94 is valid!\n",
      "game 95 is valid!\n",
      "game 98 is valid!\n"
     ]
    },
    {
     "data": {
      "text/plain": [
       "2563"
      ]
     },
     "execution_count": 78,
     "metadata": {},
     "output_type": "execute_result"
    }
   ],
   "source": [
    "reload(day02)\n",
    "day02.solve(day02.read_data(\"input02.txt\"))"
   ]
  },
  {
   "cell_type": "code",
   "execution_count": 89,
   "id": "59d4c2ef-f1de-4407-b545-a1bfa3cb959d",
   "metadata": {},
   "outputs": [
    {
     "data": {
      "text/plain": [
       "48"
      ]
     },
     "execution_count": 89,
     "metadata": {},
     "output_type": "execute_result"
    }
   ],
   "source": [
    "reload(day02)\n",
    "day02.get_power('Game 1: 3 blue, 4 red; 1 red, 2 green, 6 blue; 2 green')"
   ]
  },
  {
   "cell_type": "code",
   "execution_count": 93,
   "id": "a6de3cec-93fd-4f3c-b646-65da27110e01",
   "metadata": {},
   "outputs": [
    {
     "data": {
      "text/plain": [
       "70768"
      ]
     },
     "execution_count": 93,
     "metadata": {},
     "output_type": "execute_result"
    }
   ],
   "source": [
    "reload(day02)\n",
    "day02.solve_p2(day02.read_data(\"input02.txt\"))"
   ]
  },
  {
   "cell_type": "code",
   "execution_count": 91,
   "id": "25ea3768-6f76-4710-a95a-768fcc7f0f76",
   "metadata": {},
   "outputs": [
    {
     "ename": "FileNotFoundError",
     "evalue": "[Errno 2] No such file or directory: 'day02.txt'",
     "output_type": "error",
     "traceback": [
      "\u001b[0;31m---------------------------------------------------------------------------\u001b[0m",
      "\u001b[0;31mFileNotFoundError\u001b[0m                         Traceback (most recent call last)",
      "Cell \u001b[0;32mIn[91], line 1\u001b[0m\n\u001b[0;32m----> 1\u001b[0m day02\u001b[38;5;241m.\u001b[39mget_power(\u001b[43mday02\u001b[49m\u001b[38;5;241;43m.\u001b[39;49m\u001b[43mread_data\u001b[49m\u001b[43m(\u001b[49m\u001b[38;5;124;43m'\u001b[39;49m\u001b[38;5;124;43mday02.txt\u001b[39;49m\u001b[38;5;124;43m'\u001b[39;49m\u001b[43m)\u001b[49m[\u001b[38;5;241m0\u001b[39m])\n",
      "File \u001b[0;32m~/git_tree/advent-of-code/2023/day02/day02.py:7\u001b[0m, in \u001b[0;36mread_data\u001b[0;34m(file_name)\u001b[0m\n\u001b[1;32m      6\u001b[0m \u001b[38;5;28;01mdef\u001b[39;00m \u001b[38;5;21mread_data\u001b[39m(file_name):\n\u001b[0;32m----> 7\u001b[0m     rows \u001b[38;5;241m=\u001b[39m \u001b[38;5;28;43mopen\u001b[39;49m\u001b[43m(\u001b[49m\u001b[43mfile_name\u001b[49m\u001b[43m,\u001b[49m\u001b[43m \u001b[49m\u001b[38;5;124;43m'\u001b[39;49m\u001b[38;5;124;43mr\u001b[39;49m\u001b[38;5;124;43m'\u001b[39;49m\u001b[43m)\u001b[49m\u001b[38;5;241m.\u001b[39mread()\u001b[38;5;241m.\u001b[39msplit(\u001b[38;5;124m'\u001b[39m\u001b[38;5;130;01m\\n\u001b[39;00m\u001b[38;5;124m'\u001b[39m)\n\u001b[1;32m      8\u001b[0m     \u001b[38;5;28;01mreturn\u001b[39;00m [row\u001b[38;5;241m.\u001b[39mstrip() \u001b[38;5;28;01mfor\u001b[39;00m row \u001b[38;5;129;01min\u001b[39;00m rows \u001b[38;5;28;01mif\u001b[39;00m row\u001b[38;5;241m.\u001b[39mstrip() \u001b[38;5;241m!=\u001b[39m \u001b[38;5;124m'\u001b[39m\u001b[38;5;124m'\u001b[39m]\n",
      "\u001b[0;31mFileNotFoundError\u001b[0m: [Errno 2] No such file or directory: 'day02.txt'"
     ]
    }
   ],
   "source": [
    "day02.get_power(day02.read_data('day02.txt')[0])"
   ]
  },
  {
   "cell_type": "code",
   "execution_count": null,
   "id": "11ce0112-8c83-4375-8745-450c27a99070",
   "metadata": {},
   "outputs": [],
   "source": []
  }
 ],
 "metadata": {
  "kernelspec": {
   "display_name": "Python 3 (ipykernel)",
   "language": "python",
   "name": "python3"
  },
  "language_info": {
   "codemirror_mode": {
    "name": "ipython",
    "version": 3
   },
   "file_extension": ".py",
   "mimetype": "text/x-python",
   "name": "python",
   "nbconvert_exporter": "python",
   "pygments_lexer": "ipython3",
   "version": "3.8.14"
  }
 },
 "nbformat": 4,
 "nbformat_minor": 5
}
