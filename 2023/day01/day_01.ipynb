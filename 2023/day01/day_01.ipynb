{
 "cells": [
  {
   "cell_type": "code",
   "execution_count": 8,
   "id": "6b8a7be3-4214-47ec-bd7e-f4a7c3aa6186",
   "metadata": {},
   "outputs": [
    {
     "data": {
      "text/plain": [
       "<module 'day_01' from '/Users/olit/git_tree/advent-of-code/2023/day_01/day_01.py'>"
      ]
     },
     "execution_count": 8,
     "metadata": {},
     "output_type": "execute_result"
    }
   ],
   "source": [
    "import day_01\n",
    "from importlib import reload\n",
    "reload(day_01)"
   ]
  },
  {
   "cell_type": "code",
   "execution_count": 9,
   "id": "e6ebde93-d70a-466f-a89a-018d24eddaf5",
   "metadata": {},
   "outputs": [
    {
     "data": {
      "text/plain": [
       "55029"
      ]
     },
     "execution_count": 9,
     "metadata": {},
     "output_type": "execute_result"
    }
   ],
   "source": [
    "day_01.solve(\n",
    "    day_01.read_data('input_01.txt')\n",
    ")"
   ]
  },
  {
   "cell_type": "code",
   "execution_count": 10,
   "id": "b386f0b9-c391-4069-b265-33915c624833",
   "metadata": {},
   "outputs": [
    {
     "data": {
      "text/plain": [
       "55686"
      ]
     },
     "execution_count": 10,
     "metadata": {},
     "output_type": "execute_result"
    }
   ],
   "source": [
    "day_01.solve_p2(\n",
    "    day_01.read_data('input_01.txt')\n",
    ")"
   ]
  },
  {
   "cell_type": "code",
   "execution_count": 11,
   "id": "9d62a8fe-878a-48c7-80e5-dce5dfade26d",
   "metadata": {},
   "outputs": [
    {
     "data": {
      "text/plain": [
       "55686"
      ]
     },
     "execution_count": 11,
     "metadata": {},
     "output_type": "execute_result"
    }
   ],
   "source": [
    "day_01.solve_p2_v2(\n",
    "    day_01.read_data('input_01.txt')\n",
    ")"
   ]
  },
  {
   "cell_type": "code",
   "execution_count": 12,
   "id": "1bf5887b-1e34-4aa8-b9fd-6be4913359bb",
   "metadata": {},
   "outputs": [
    {
     "data": {
      "text/plain": [
       "'8wo'"
      ]
     },
     "execution_count": 12,
     "metadata": {},
     "output_type": "execute_result"
    }
   ],
   "source": [
    "day_01.parse_numbers_forward('eightwo')"
   ]
  },
  {
   "cell_type": "code",
   "execution_count": 13,
   "id": "4938433a-004e-45de-b6b9-314c0166d3fb",
   "metadata": {},
   "outputs": [
    {
     "data": {
      "text/plain": [
       "'eigh2'"
      ]
     },
     "execution_count": 13,
     "metadata": {},
     "output_type": "execute_result"
    }
   ],
   "source": [
    "day_01.parse_numbers_backward('eightwo')"
   ]
  },
  {
   "cell_type": "code",
   "execution_count": null,
   "id": "0f3288fc-5327-432f-baa7-b981577604ae",
   "metadata": {},
   "outputs": [],
   "source": []
  }
 ],
 "metadata": {
  "kernelspec": {
   "display_name": "Python 3 (ipykernel)",
   "language": "python",
   "name": "python3"
  },
  "language_info": {
   "codemirror_mode": {
    "name": "ipython",
    "version": 3
   },
   "file_extension": ".py",
   "mimetype": "text/x-python",
   "name": "python",
   "nbconvert_exporter": "python",
   "pygments_lexer": "ipython3",
   "version": "3.8.14"
  }
 },
 "nbformat": 4,
 "nbformat_minor": 5
}
