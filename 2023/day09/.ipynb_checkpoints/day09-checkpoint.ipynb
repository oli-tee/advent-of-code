{
 "cells": [
  {
   "cell_type": "code",
   "execution_count": 33,
   "id": "35fb6d8e-30ea-4e1f-95ca-23f8773138ac",
   "metadata": {},
   "outputs": [
    {
     "data": {
      "text/plain": [
       "<module 'day09' from '/Users/olit/git_tree/advent-of-code/2023/day09/day09.py'>"
      ]
     },
     "execution_count": 33,
     "metadata": {},
     "output_type": "execute_result"
    }
   ],
   "source": [
    "from importlib import reload\n",
    "import day09\n",
    "reload(day09)"
   ]
  },
  {
   "cell_type": "code",
   "execution_count": 28,
   "id": "ce888b9c-ab1f-4572-9297-40cc9a9c22db",
   "metadata": {},
   "outputs": [
    {
     "data": {
      "text/plain": [
       "114"
      ]
     },
     "execution_count": 28,
     "metadata": {},
     "output_type": "execute_result"
    }
   ],
   "source": [
    "day09.solve_p1('test_input09.txt')"
   ]
  },
  {
   "cell_type": "code",
   "execution_count": 29,
   "id": "bd6d6936-af9d-40ec-b86f-caf79e16628e",
   "metadata": {},
   "outputs": [
    {
     "data": {
      "text/plain": [
       "1868368343"
      ]
     },
     "execution_count": 29,
     "metadata": {},
     "output_type": "execute_result"
    }
   ],
   "source": [
    "day09.solve_p1('input09.txt')"
   ]
  },
  {
   "cell_type": "code",
   "execution_count": 30,
   "id": "14e56472-90cf-4640-8574-c14942e9df79",
   "metadata": {},
   "outputs": [
    {
     "data": {
      "text/plain": [
       "[0, 1, 2, 3, 4]"
      ]
     },
     "execution_count": 30,
     "metadata": {},
     "output_type": "execute_result"
    }
   ],
   "source": [
    "day09.extrapolate_p2([1,2,3,4])"
   ]
  },
  {
   "cell_type": "code",
   "execution_count": 32,
   "id": "36a8945c-8c24-4ee7-a467-30a82d4f3450",
   "metadata": {},
   "outputs": [
    {
     "data": {
      "text/plain": [
       "[43, 45, 47, 49]"
      ]
     },
     "execution_count": 32,
     "metadata": {},
     "output_type": "execute_result"
    }
   ],
   "source": [
    "day09.extrapolate_p2([45, 47, 49])"
   ]
  },
  {
   "cell_type": "code",
   "execution_count": 34,
   "id": "f30ecf29-27e1-4ef4-8c35-cef865ae52a1",
   "metadata": {},
   "outputs": [
    {
     "data": {
      "text/plain": [
       "2"
      ]
     },
     "execution_count": 34,
     "metadata": {},
     "output_type": "execute_result"
    }
   ],
   "source": [
    "day09.solve_p2('test_input09.txt')"
   ]
  },
  {
   "cell_type": "code",
   "execution_count": 35,
   "id": "ceb7e9c2-d296-4e37-a75c-951fa0c14b7c",
   "metadata": {},
   "outputs": [
    {
     "data": {
      "text/plain": [
       "1022"
      ]
     },
     "execution_count": 35,
     "metadata": {},
     "output_type": "execute_result"
    }
   ],
   "source": [
    "day09.solve_p2('input09.txt')"
   ]
  },
  {
   "cell_type": "code",
   "execution_count": null,
   "id": "b11f2716-9885-4609-b3df-7250d89ae918",
   "metadata": {},
   "outputs": [],
   "source": []
  }
 ],
 "metadata": {
  "kernelspec": {
   "display_name": "Python 3 (ipykernel)",
   "language": "python",
   "name": "python3"
  },
  "language_info": {
   "codemirror_mode": {
    "name": "ipython",
    "version": 3
   },
   "file_extension": ".py",
   "mimetype": "text/x-python",
   "name": "python",
   "nbconvert_exporter": "python",
   "pygments_lexer": "ipython3",
   "version": "3.8.14"
  }
 },
 "nbformat": 4,
 "nbformat_minor": 5
}
