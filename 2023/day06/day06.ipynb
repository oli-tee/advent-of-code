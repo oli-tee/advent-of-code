{
 "cells": [
  {
   "cell_type": "code",
   "execution_count": 33,
   "id": "c8497ac0-a615-401f-b93e-5bd10e1c6012",
   "metadata": {},
   "outputs": [
    {
     "data": {
      "text/plain": [
       "<module 'day06' from '/Users/olit/git_tree/advent-of-code/2023/day06/day06.py'>"
      ]
     },
     "execution_count": 33,
     "metadata": {},
     "output_type": "execute_result"
    }
   ],
   "source": [
    "from importlib import reload\n",
    "import day06\n",
    "reload(day06)"
   ]
  },
  {
   "cell_type": "code",
   "execution_count": 31,
   "id": "e8b8fab1-89a8-4fa2-b3d6-b2210ad981d7",
   "metadata": {},
   "outputs": [
    {
     "data": {
      "text/plain": [
       "288"
      ]
     },
     "execution_count": 31,
     "metadata": {},
     "output_type": "execute_result"
    }
   ],
   "source": [
    "day06.solve_p1('test_input06.txt')"
   ]
  },
  {
   "cell_type": "code",
   "execution_count": 32,
   "id": "a2dc45d6-f01c-4537-a2ec-26c3055a17da",
   "metadata": {},
   "outputs": [
    {
     "data": {
      "text/plain": [
       "252000"
      ]
     },
     "execution_count": 32,
     "metadata": {},
     "output_type": "execute_result"
    }
   ],
   "source": [
    "day06.solve_p1('input06.txt')"
   ]
  },
  {
   "cell_type": "code",
   "execution_count": 35,
   "id": "ca1285e0-dc88-49e9-9eec-60c936812369",
   "metadata": {},
   "outputs": [
    {
     "data": {
      "text/plain": [
       "71503"
      ]
     },
     "execution_count": 35,
     "metadata": {},
     "output_type": "execute_result"
    }
   ],
   "source": [
    "day06.solve_p2('test_input06.txt')"
   ]
  },
  {
   "cell_type": "code",
   "execution_count": 34,
   "id": "9a05bfd4-3e0d-4ccd-b2a8-af847d58d5bd",
   "metadata": {},
   "outputs": [
    {
     "data": {
      "text/plain": [
       "36992486"
      ]
     },
     "execution_count": 34,
     "metadata": {},
     "output_type": "execute_result"
    }
   ],
   "source": [
    "day06.solve_p2('input06.txt')"
   ]
  },
  {
   "cell_type": "code",
   "execution_count": null,
   "id": "909fd783-f9a7-4966-8a59-a04c02c22457",
   "metadata": {},
   "outputs": [],
   "source": []
  }
 ],
 "metadata": {
  "kernelspec": {
   "display_name": "Python 3 (ipykernel)",
   "language": "python",
   "name": "python3"
  },
  "language_info": {
   "codemirror_mode": {
    "name": "ipython",
    "version": 3
   },
   "file_extension": ".py",
   "mimetype": "text/x-python",
   "name": "python",
   "nbconvert_exporter": "python",
   "pygments_lexer": "ipython3",
   "version": "3.8.14"
  }
 },
 "nbformat": 4,
 "nbformat_minor": 5
}
