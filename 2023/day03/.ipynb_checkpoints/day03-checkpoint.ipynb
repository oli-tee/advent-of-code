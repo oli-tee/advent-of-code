{
 "cells": [
  {
   "cell_type": "code",
   "execution_count": 85,
   "id": "6501a374-c72a-4f64-9cd1-239d84bbce6f",
   "metadata": {},
   "outputs": [
    {
     "data": {
      "text/plain": [
       "<module 'day03' from '/Users/olit/git_tree/advent-of-code/2023/day03/day03.py'>"
      ]
     },
     "execution_count": 85,
     "metadata": {},
     "output_type": "execute_result"
    }
   ],
   "source": [
    "from importlib import reload\n",
    "import day03\n",
    "import numpy as np\n",
    "import re\n",
    "reload(day03)"
   ]
  },
  {
   "cell_type": "code",
   "execution_count": 86,
   "id": "6f5a8f23-e291-419d-81dd-f5dea7749927",
   "metadata": {},
   "outputs": [
    {
     "data": {
      "text/plain": [
       "4361"
      ]
     },
     "execution_count": 86,
     "metadata": {},
     "output_type": "execute_result"
    }
   ],
   "source": [
    "day03.solve_p1(day03.read_data('test_input.txt'))"
   ]
  },
  {
   "cell_type": "code",
   "execution_count": 87,
   "id": "5ffd6367-9368-4cca-99f8-99299e697c4b",
   "metadata": {},
   "outputs": [
    {
     "data": {
      "text/plain": [
       "533775"
      ]
     },
     "execution_count": 87,
     "metadata": {},
     "output_type": "execute_result"
    }
   ],
   "source": [
    "day03.solve_p1(day03.read_data('input03.txt'))"
   ]
  },
  {
   "cell_type": "code",
   "execution_count": 88,
   "id": "54f3e1f6-564a-48f7-ad14-0dc331f3a235",
   "metadata": {},
   "outputs": [
    {
     "data": {
      "text/plain": [
       "467835"
      ]
     },
     "execution_count": 88,
     "metadata": {},
     "output_type": "execute_result"
    }
   ],
   "source": [
    "day03.solve_p2(day03.read_data('test_input.txt'))"
   ]
  },
  {
   "cell_type": "code",
   "execution_count": 89,
   "id": "b76bcecf-77b6-431c-9aac-9955019d1324",
   "metadata": {},
   "outputs": [
    {
     "data": {
      "text/plain": [
       "78236071"
      ]
     },
     "execution_count": 89,
     "metadata": {},
     "output_type": "execute_result"
    }
   ],
   "source": [
    "day03.solve_p2(day03.read_data('input03.txt'))"
   ]
  },
  {
   "cell_type": "code",
   "execution_count": null,
   "id": "852b8932-e9a9-4fed-87f3-d414ee61e789",
   "metadata": {},
   "outputs": [],
   "source": []
  }
 ],
 "metadata": {
  "kernelspec": {
   "display_name": "Python 3 (ipykernel)",
   "language": "python",
   "name": "python3"
  },
  "language_info": {
   "codemirror_mode": {
    "name": "ipython",
    "version": 3
   },
   "file_extension": ".py",
   "mimetype": "text/x-python",
   "name": "python",
   "nbconvert_exporter": "python",
   "pygments_lexer": "ipython3",
   "version": "3.8.14"
  }
 },
 "nbformat": 4,
 "nbformat_minor": 5
}
