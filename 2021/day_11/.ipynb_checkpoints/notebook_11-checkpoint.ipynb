{
 "cells": [
  {
   "cell_type": "code",
   "execution_count": 4,
   "metadata": {},
   "outputs": [
    {
     "data": {
      "text/plain": [
       "<module 'module11' from '/Users/oli/git_tree/advent-of-code/2021/day_11/module11.py'>"
      ]
     },
     "execution_count": 4,
     "metadata": {},
     "output_type": "execute_result"
    }
   ],
   "source": [
    "from importlib import reload\n",
    "import module11\n",
    "reload(module11)"
   ]
  },
  {
   "cell_type": "code",
   "execution_count": 79,
   "metadata": {},
   "outputs": [],
   "source": [
    "x = module11.convert_to_matrix([\n",
    "        '11111', \n",
    "        '19991',\n",
    "        '19191',\n",
    "        '19991',\n",
    "        '11111'\n",
    "    ])"
   ]
  },
  {
   "cell_type": "code",
   "execution_count": 9,
   "metadata": {},
   "outputs": [],
   "source": [
    "y = module11.convert_to_matrix([\n",
    "        '11111', \n",
    "        '19991',\n",
    "        '19191',\n",
    "        '19991',\n",
    "        '11111'\n",
    "    ])"
   ]
  },
  {
   "cell_type": "code",
   "execution_count": 10,
   "metadata": {},
   "outputs": [
    {
     "data": {
      "text/plain": [
       "array([[ True,  True,  True,  True,  True],\n",
       "       [ True,  True,  True,  True,  True],\n",
       "       [ True,  True,  True,  True,  True],\n",
       "       [ True,  True,  True,  True,  True],\n",
       "       [ True,  True,  True,  True,  True]])"
      ]
     },
     "execution_count": 10,
     "metadata": {},
     "output_type": "execute_result"
    }
   ],
   "source": [
    "x == y"
   ]
  },
  {
   "cell_type": "code",
   "execution_count": 13,
   "metadata": {},
   "outputs": [
    {
     "name": "stdout",
     "output_type": "stream",
     "text": [
      "yeah\n"
     ]
    }
   ],
   "source": [
    "if (x == y).all():\n",
    "    print('yeah')"
   ]
  },
  {
   "cell_type": "code",
   "execution_count": 14,
   "metadata": {},
   "outputs": [
    {
     "data": {
      "text/plain": [
       "array([[False, False, False, False, False],\n",
       "       [False,  True,  True,  True, False],\n",
       "       [False,  True, False,  True, False],\n",
       "       [False,  True,  True,  True, False],\n",
       "       [False, False, False, False, False]])"
      ]
     },
     "execution_count": 14,
     "metadata": {},
     "output_type": "execute_result"
    }
   ],
   "source": [
    "x == 9"
   ]
  },
  {
   "cell_type": "code",
   "execution_count": 18,
   "metadata": {},
   "outputs": [],
   "source": [
    "import numpy as np\n",
    "l = np.where(x==9)"
   ]
  },
  {
   "cell_type": "code",
   "execution_count": 25,
   "metadata": {},
   "outputs": [
    {
     "data": {
      "text/plain": [
       "[(array([1, 1, 1, 2, 2, 3, 3, 3]),), (array([1, 2, 3, 1, 3, 1, 2, 3]),)]"
      ]
     },
     "execution_count": 25,
     "metadata": {},
     "output_type": "execute_result"
    }
   ],
   "source": [
    "list(zip(l))"
   ]
  },
  {
   "cell_type": "code",
   "execution_count": 17,
   "metadata": {},
   "outputs": [
    {
     "data": {
      "text/plain": [
       "array([[ 2,  2,  2,  2,  2],\n",
       "       [ 2, 10, 10, 10,  2],\n",
       "       [ 2, 10,  2, 10,  2],\n",
       "       [ 2, 10, 10, 10,  2],\n",
       "       [ 2,  2,  2,  2,  2]])"
      ]
     },
     "execution_count": 17,
     "metadata": {},
     "output_type": "execute_result"
    }
   ],
   "source": [
    "x + 1"
   ]
  },
  {
   "cell_type": "code",
   "execution_count": 28,
   "metadata": {},
   "outputs": [],
   "source": [
    "matrix = module11.convert_to_matrix([\n",
    "        '11111', \n",
    "        '19991',\n",
    "        '19191',\n",
    "        '19991',\n",
    "        '11111'\n",
    "    ])"
   ]
  },
  {
   "cell_type": "code",
   "execution_count": 27,
   "metadata": {},
   "outputs": [
    {
     "data": {
      "text/plain": [
       "array([[1, 1, 1, 1, 1],\n",
       "       [1, 9, 9, 9, 1],\n",
       "       [1, 9, 1, 9, 1],\n",
       "       [1, 9, 9, 9, 1],\n",
       "       [1, 1, 1, 1, 1]])"
      ]
     },
     "execution_count": 27,
     "metadata": {},
     "output_type": "execute_result"
    }
   ],
   "source": [
    "octopi_to_flash = list()\n",
    "    new_matrix = matrix + 1\n",
    "    flash_count = 0\n",
    "    \n",
    "    unzipped_list_of_flashers = np.where(new_matrix > 9)\n",
    "    zipped_list_of_flashers = [(list_of_flashers[0][i], list_of_flashers[1][i]) for i in range(len(unzipped_list_of_flashers[0]))]\n",
    "    octopi_to_flash = octopi_to_flash + zipped_list_of_flashers\n",
    "    \n",
    "    while len(octopi_to_flash) > 0:\n",
    "        current_flasher = octopi_to_flash[0]\n",
    "        "
   ]
  },
  {
   "cell_type": "code",
   "execution_count": 43,
   "metadata": {},
   "outputs": [],
   "source": []
  },
  {
   "cell_type": "code",
   "execution_count": 41,
   "metadata": {},
   "outputs": [],
   "source": []
  },
  {
   "cell_type": "code",
   "execution_count": 44,
   "metadata": {},
   "outputs": [
    {
     "data": {
      "text/plain": [
       "array([[0., 0., 0., 0., 0., 0., 0.],\n",
       "       [0., 1., 1., 1., 1., 1., 0.],\n",
       "       [0., 1., 9., 9., 9., 1., 0.],\n",
       "       [0., 1., 9., 1., 9., 1., 0.],\n",
       "       [0., 1., 9., 9., 9., 1., 0.],\n",
       "       [0., 1., 1., 1., 1., 1., 0.],\n",
       "       [0., 0., 0., 0., 0., 0., 0.]])"
      ]
     },
     "execution_count": 44,
     "metadata": {},
     "output_type": "execute_result"
    }
   ],
   "source": [
    "new_matrix"
   ]
  },
  {
   "cell_type": "code",
   "execution_count": 54,
   "metadata": {},
   "outputs": [
    {
     "data": {
      "text/plain": [
       "list"
      ]
     },
     "execution_count": 54,
     "metadata": {},
     "output_type": "execute_result"
    }
   ],
   "source": []
  },
  {
   "cell_type": "code",
   "execution_count": 93,
   "metadata": {},
   "outputs": [],
   "source": [
    "\n",
    "def apply_step(matrix):\n",
    "    octopi_to_flash = list()\n",
    "    \n",
    "    flash_count = 0\n",
    "    already_flashed = list()\n",
    "    \n",
    "    matrix = matrix + 1\n",
    "    \n",
    "    unzipped_list_of_flashers = np.where(matrix > 9)\n",
    "    zipped_list_of_flashers = [\n",
    "        (unzipped_list_of_flashers[0][i], unzipped_list_of_flashers[1][i])\n",
    "        for i in range(len(unzipped_list_of_flashers[0]))\n",
    "    ]\n",
    "    octopi_to_flash = octopi_to_flash + zipped_list_of_flashers\n",
    "    \n",
    "    \n",
    "    fuse_counter = 20\n",
    "    \n",
    "    while len(octopi_to_flash) > 0 and fuse_counter > 0:\n",
    "        fuse_counter -= 1\n",
    "        print(octopi_to_flash)\n",
    "        current_flasher = octopi_to_flash[0]\n",
    "        matrix, new_flashers = flash(matrix, current_flasher)\n",
    "        \n",
    "        already_flashed.append(current_flasher)\n",
    "        \n",
    "        flash_count += 1\n",
    "        for f in new_flashers:\n",
    "            if f not in octopi_to_flash and f not in already_flashed:\n",
    "                octopi_to_flash.append(f)\n",
    "        \n",
    "        octopi_to_flash = octopi_to_flash[1:]\n",
    "    \n",
    "    \n",
    "    \n",
    "    return matrix\n",
    "            \n",
    "        \n",
    "\n",
    "def flash(matrix, coord):\n",
    "    r = coord[0] + 1\n",
    "    c = coord[1] + 1\n",
    "    padded_matrix = pad_matrix(matrix)\n",
    "    \n",
    "    surrounding_positions = [\n",
    "        (r-1, c-1),\n",
    "        (r-1, c),\n",
    "        (r-1, c+1),\n",
    "        (r, c+1),\n",
    "        (r+1, c+1),\n",
    "        (r+1, c),\n",
    "        (r+1, c-1),\n",
    "        (r, c-1)\n",
    "    ]\n",
    "    \n",
    "    new_flashers = []\n",
    "    \n",
    "    for coord in surrounding_positions:\n",
    "        padded_matrix[coord[0]][coord[1]] += 1\n",
    "        if padded_matrix[coord[0]][coord[1]] > 9:\n",
    "            new_flashers.append((coord[0]-1, coord[1]-1))\n",
    "        \n",
    "    \n",
    "    return padded_matrix[1:-1, 1:-1], new_flashers\n",
    "\n",
    "def pad_matrix(matrix):\n",
    "    new_matrix = np.c_[np.zeros(len(matrix)), matrix, np.zeros(len(matrix))]\n",
    "    new_matrix = np.r_[[np.zeros(len(new_matrix[0]))], new_matrix, [np.zeros(len(new_matrix[0]))]]\n",
    "    return new_matrix.astype('int')"
   ]
  },
  {
   "cell_type": "code",
   "execution_count": 94,
   "metadata": {},
   "outputs": [],
   "source": [
    "end = apply_step(state1)"
   ]
  },
  {
   "cell_type": "code",
   "execution_count": 95,
   "metadata": {},
   "outputs": [
    {
     "data": {
      "text/plain": [
       "array([[ 2,  2,  2,  2,  2],\n",
       "       [ 2, 10, 10, 10,  2],\n",
       "       [ 2, 10,  2, 10,  2],\n",
       "       [ 2, 10, 10, 10,  2],\n",
       "       [ 2,  2,  2,  2,  2]])"
      ]
     },
     "execution_count": 95,
     "metadata": {},
     "output_type": "execute_result"
    }
   ],
   "source": [
    "end"
   ]
  },
  {
   "cell_type": "code",
   "execution_count": 83,
   "metadata": {},
   "outputs": [
    {
     "data": {
      "text/plain": [
       "array([[1, 1, 1, 1, 1],\n",
       "       [1, 9, 9, 9, 1],\n",
       "       [1, 9, 1, 9, 1],\n",
       "       [1, 9, 9, 9, 1],\n",
       "       [1, 1, 1, 1, 1]])"
      ]
     },
     "execution_count": 83,
     "metadata": {},
     "output_type": "execute_result"
    }
   ],
   "source": [
    "state1"
   ]
  },
  {
   "cell_type": "code",
   "execution_count": 73,
   "metadata": {},
   "outputs": [],
   "source": [
    "a, b = flash(matrix, (2, 3))"
   ]
  },
  {
   "cell_type": "code",
   "execution_count": 75,
   "metadata": {},
   "outputs": [
    {
     "data": {
      "text/plain": [
       "[(1, 2), (1, 3), (3, 3), (3, 2)]"
      ]
     },
     "execution_count": 75,
     "metadata": {},
     "output_type": "execute_result"
    }
   ],
   "source": [
    "b"
   ]
  },
  {
   "cell_type": "code",
   "execution_count": null,
   "metadata": {},
   "outputs": [],
   "source": []
  }
 ],
 "metadata": {
  "kernelspec": {
   "display_name": "Python 3",
   "language": "python",
   "name": "python3"
  },
  "language_info": {
   "codemirror_mode": {
    "name": "ipython",
    "version": 3
   },
   "file_extension": ".py",
   "mimetype": "text/x-python",
   "name": "python",
   "nbconvert_exporter": "python",
   "pygments_lexer": "ipython3",
   "version": "3.7.4"
  }
 },
 "nbformat": 4,
 "nbformat_minor": 4
}
