{
 "cells": [
  {
   "cell_type": "code",
   "execution_count": 370,
   "metadata": {},
   "outputs": [],
   "source": [
    "from importlib import reload\n",
    "import module15\n",
    "reload(module15)\n",
    "from collections import Counter\n",
    "import numpy as np"
   ]
  },
  {
   "cell_type": "code",
   "execution_count": 371,
   "metadata": {},
   "outputs": [],
   "source": [
    "data = module15.read_data('test_input.txt')"
   ]
  },
  {
   "cell_type": "code",
   "execution_count": 372,
   "metadata": {},
   "outputs": [
    {
     "data": {
      "text/plain": [
       "array([[1, 1, 6, 3, 7, 5, 1, 7, 4, 2],\n",
       "       [1, 3, 8, 1, 3, 7, 3, 6, 7, 2],\n",
       "       [2, 1, 3, 6, 5, 1, 1, 3, 2, 8],\n",
       "       [3, 6, 9, 4, 9, 3, 1, 5, 6, 9],\n",
       "       [7, 4, 6, 3, 4, 1, 7, 1, 1, 1],\n",
       "       [1, 3, 1, 9, 1, 2, 8, 1, 3, 7],\n",
       "       [1, 3, 5, 9, 9, 1, 2, 4, 2, 1],\n",
       "       [3, 1, 2, 5, 4, 2, 1, 6, 3, 9],\n",
       "       [1, 2, 9, 3, 1, 3, 8, 5, 2, 1],\n",
       "       [2, 3, 1, 1, 9, 4, 4, 5, 8, 1]])"
      ]
     },
     "execution_count": 372,
     "metadata": {},
     "output_type": "execute_result"
    }
   ],
   "source": [
    "data"
   ]
  },
  {
   "cell_type": "code",
   "execution_count": 373,
   "metadata": {},
   "outputs": [
    {
     "name": "stdout",
     "output_type": "stream",
     "text": [
      "(True, True, True)\n"
     ]
    },
    {
     "data": {
      "text/plain": [
       "40"
      ]
     },
     "execution_count": 373,
     "metadata": {},
     "output_type": "execute_result"
    }
   ],
   "source": [
    "module15.dijkstra(module15.read_data('test_input.txt'), True)"
   ]
  },
  {
   "cell_type": "code",
   "execution_count": 374,
   "metadata": {},
   "outputs": [
    {
     "name": "stdout",
     "output_type": "stream",
     "text": [
      "(True, True, True)\n"
     ]
    },
    {
     "data": {
      "text/plain": [
       "40"
      ]
     },
     "execution_count": 374,
     "metadata": {},
     "output_type": "execute_result"
    }
   ],
   "source": [
    "module15.dijkstra_light(module15.read_data('test_input.txt'), True)"
   ]
  },
  {
   "cell_type": "code",
   "execution_count": 343,
   "metadata": {},
   "outputs": [
    {
     "name": "stdout",
     "output_type": "stream",
     "text": [
      "100: (9, 8). left: 9900\n",
      "200: (5, 13). left: 9800\n",
      "300: (10, 14). left: 9700\n",
      "400: (22, 7). left: 9600\n",
      "500: (19, 13). left: 9500\n",
      "600: (31, 5). left: 9400\n",
      "700: (19, 19). left: 9300\n",
      "800: (33, 12). left: 9200\n",
      "900: (21, 24). left: 9100\n",
      "1000: (24, 24). left: 9000\n",
      "1100: (5, 37). left: 8900\n",
      "1200: (30, 21). left: 8800\n",
      "1300: (30, 29). left: 8700\n",
      "1400: (18, 35). left: 8600\n",
      "1500: (47, 4). left: 8500\n",
      "1600: (47, 9). left: 8400\n",
      "1700: (37, 23). left: 8300\n",
      "1800: (35, 27). left: 8200\n",
      "1900: (18, 43). left: 8100\n",
      "2000: (7, 49). left: 8000\n",
      "2100: (21, 42). left: 7900\n",
      "2200: (13, 48). left: 7800\n",
      "2300: (62, 13). left: 7700\n",
      "2400: (59, 11). left: 7600\n",
      "2500: (47, 27). left: 7500\n",
      "2600: (51, 26). left: 7400\n",
      "2700: (29, 43). left: 7300\n",
      "2800: (12, 56). left: 7200\n",
      "2900: (62, 20). left: 7100\n",
      "3000: (36, 43). left: 7000\n",
      "3100: (70, 8). left: 6900\n",
      "3200: (64, 0). left: 6800\n",
      "3300: (63, 24). left: 6700\n",
      "3400: (70, 7). left: 6600\n",
      "3500: (21, 62). left: 6500\n",
      "3600: (5, 63). left: 6400\n",
      "3700: (50, 43). left: 6300\n",
      "3800: (67, 25). left: 6200\n",
      "3900: (12, 67). left: 6100\n",
      "4000: (43, 52). left: 6000\n",
      "4100: (58, 37). left: 5900\n",
      "4200: (32, 63). left: 5800\n",
      "4300: (49, 53). left: 5700\n",
      "4400: (79, 14). left: 5600\n",
      "4500: (49, 55). left: 5500\n",
      "4600: (57, 46). left: 5400\n",
      "4700: (63, 41). left: 5300\n",
      "4800: (86, 13). left: 5200\n",
      "4900: (70, 32). left: 5100\n",
      "5000: (3, 83). left: 5000\n",
      "5100: (68, 43). left: 4900\n",
      "5200: (86, 2). left: 4800\n",
      "5300: (90, 12). left: 4700\n",
      "5400: (20, 81). left: 4600\n",
      "5500: (21, 80). left: 4500\n",
      "5600: (37, 67). left: 4400\n",
      "5700: (18, 84). left: 4300\n",
      "5800: (36, 71). left: 4200\n",
      "5900: (73, 38). left: 4100\n",
      "6000: (59, 56). left: 4000\n",
      "6100: (35, 74). left: 3900\n",
      "6200: (98, 3). left: 3800\n",
      "6300: (21, 87). left: 3700\n",
      "6400: (77, 50). left: 3600\n",
      "6500: (61, 58). left: 3500\n",
      "6600: (69, 56). left: 3400\n",
      "6700: (60, 65). left: 3300\n",
      "6800: (64, 58). left: 3200\n",
      "6900: (72, 55). left: 3100\n",
      "7000: (50, 76). left: 3000\n",
      "7100: (55, 74). left: 2900\n",
      "7200: (66, 62). left: 2800\n",
      "7300: (74, 58). left: 2700\n",
      "7400: (82, 56). left: 2600\n",
      "7500: (86, 42). left: 2500\n",
      "7600: (64, 67). left: 2400\n",
      "7700: (63, 71). left: 2300\n",
      "7800: (86, 48). left: 2200\n",
      "7900: (38, 83). left: 2100\n",
      "8000: (72, 68). left: 2000\n",
      "8100: (59, 86). left: 1900\n",
      "8200: (28, 98). left: 1800\n",
      "8300: (40, 91). left: 1700\n",
      "8400: (38, 98). left: 1600\n",
      "8500: (94, 54). left: 1500\n",
      "8600: (89, 63). left: 1400\n",
      "8700: (91, 65). left: 1300\n",
      "8800: (66, 83). left: 1200\n",
      "8900: (95, 62). left: 1100\n",
      "9000: (88, 68). left: 1000\n",
      "9100: (63, 97). left: 900\n",
      "9200: (97, 61). left: 800\n",
      "9300: (60, 99). left: 700\n",
      "9400: (86, 79). left: 600\n",
      "9500: (78, 88). left: 500\n",
      "9600: (85, 83). left: 400\n",
      "9700: (81, 87). left: 300\n",
      "9800: (97, 85). left: 200\n",
      "9900: (90, 99). left: 100\n",
      "(True, True, True)\n"
     ]
    },
    {
     "data": {
      "text/plain": [
       "393"
      ]
     },
     "execution_count": 343,
     "metadata": {},
     "output_type": "execute_result"
    }
   ],
   "source": [
    "module15.dijkstra(module15.read_data('input_15.txt'), True)"
   ]
  },
  {
   "cell_type": "code",
   "execution_count": 375,
   "metadata": {},
   "outputs": [
    {
     "name": "stdout",
     "output_type": "stream",
     "text": [
      "100: (10, 7). left: 9900\n",
      "200: (3, 14). left: 9800\n",
      "300: (2, 19). left: 9700\n",
      "400: (0, 19). left: 9600\n",
      "500: (10, 22). left: 9500\n",
      "600: (31, 3). left: 9400\n",
      "700: (17, 23). left: 9300\n",
      "800: (22, 22). left: 9200\n",
      "900: (24, 22). left: 9100\n",
      "1000: (1, 33). left: 9000\n",
      "1100: (21, 28). left: 8900\n",
      "1200: (19, 31). left: 8800\n",
      "1300: (8, 36). left: 8700\n",
      "1400: (14, 36). left: 8600\n",
      "1500: (31, 25). left: 8500\n",
      "1600: (44, 2). left: 8400\n",
      "1700: (49, 7). left: 8300\n",
      "1800: (6, 43). left: 8200\n",
      "1900: (26, 38). left: 8100\n",
      "2000: (41, 28). left: 8000\n",
      "2100: (44, 25). left: 7900\n",
      "2200: (22, 41). left: 7800\n",
      "2300: (49, 22). left: 7700\n",
      "2400: (14, 48). left: 7600\n",
      "2500: (48, 25). left: 7500\n",
      "2600: (10, 53). left: 7400\n",
      "2700: (65, 12). left: 7300\n",
      "2800: (3, 61). left: 7200\n",
      "2900: (58, 23). left: 7100\n",
      "3000: (26, 49). left: 7000\n",
      "3100: (34, 51). left: 6900\n",
      "3200: (45, 39). left: 6800\n",
      "3300: (43, 43). left: 6700\n",
      "3400: (44, 43). left: 6600\n",
      "3500: (63, 26). left: 6500\n",
      "3600: (54, 41). left: 6400\n",
      "3700: (28, 56). left: 6300\n",
      "3800: (67, 25). left: 6200\n",
      "3900: (46, 48). left: 6100\n",
      "4000: (70, 0). left: 6000\n",
      "4100: (32, 59). left: 5900\n",
      "4200: (44, 52). left: 5800\n",
      "4300: (83, 7). left: 5700\n",
      "4400: (72, 26). left: 5600\n",
      "4500: (75, 18). left: 5500\n",
      "4600: (37, 61). left: 5400\n",
      "4700: (19, 73). left: 5300\n",
      "4800: (80, 21). left: 5200\n",
      "4900: (87, 5). left: 5100\n",
      "5000: (2, 84). left: 5000\n",
      "5100: (26, 69). left: 4900\n",
      "5200: (41, 65). left: 4800\n",
      "5300: (6, 84). left: 4700\n",
      "5400: (12, 80). left: 4600\n",
      "5500: (84, 23). left: 4500\n",
      "5600: (54, 59). left: 4400\n",
      "5700: (74, 45). left: 4300\n",
      "5800: (88, 24). left: 4200\n",
      "5900: (95, 4). left: 4100\n",
      "6000: (74, 47). left: 4000\n",
      "6100: (49, 66). left: 3900\n",
      "6200: (23, 85). left: 3800\n",
      "6300: (69, 57). left: 3700\n",
      "6400: (62, 59). left: 3600\n",
      "6500: (95, 17). left: 3500\n",
      "6600: (27, 86). left: 3400\n",
      "6700: (71, 54). left: 3300\n",
      "6800: (4, 95). left: 3200\n",
      "6900: (73, 55). left: 3100\n",
      "7000: (36, 79). left: 3000\n",
      "7100: (13, 95). left: 2900\n",
      "7200: (64, 64). left: 2800\n",
      "7300: (31, 86). left: 2700\n",
      "7400: (10, 94). left: 2600\n",
      "7500: (32, 92). left: 2500\n",
      "7600: (53, 81). left: 2400\n",
      "7700: (95, 33). left: 2300\n",
      "7800: (64, 71). left: 2200\n",
      "7900: (19, 96). left: 2100\n",
      "8000: (35, 90). left: 2000\n",
      "8100: (98, 41). left: 1900\n",
      "8200: (48, 89). left: 1800\n",
      "8300: (92, 51). left: 1700\n",
      "8400: (65, 84). left: 1600\n",
      "8500: (35, 98). left: 1500\n",
      "8600: (99, 44). left: 1400\n",
      "8700: (85, 66). left: 1300\n",
      "8800: (79, 70). left: 1200\n",
      "8900: (82, 70). left: 1100\n",
      "9000: (56, 97). left: 1000\n",
      "9100: (84, 74). left: 900\n",
      "9200: (64, 94). left: 800\n",
      "9300: (82, 79). left: 700\n",
      "9400: (83, 81). left: 600\n",
      "9500: (76, 92). left: 500\n",
      "9600: (85, 86). left: 400\n",
      "9700: (84, 90). left: 300\n",
      "9800: (82, 96). left: 200\n",
      "9900: (98, 90). left: 100\n",
      "(True, True, True)\n"
     ]
    },
    {
     "data": {
      "text/plain": [
       "393"
      ]
     },
     "execution_count": 375,
     "metadata": {},
     "output_type": "execute_result"
    }
   ],
   "source": [
    "module15.dijkstra_light(module15.read_data('input_15.txt'), True)"
   ]
  },
  {
   "cell_type": "code",
   "execution_count": null,
   "metadata": {},
   "outputs": [],
   "source": [
    "full_matrix =  module15.replicate_data(module15.read_data('input_15.txt'))\n",
    "    \n",
    "module15.dijkstra_light(full_matrix, True)"
   ]
  },
  {
   "cell_type": "code",
   "execution_count": null,
   "metadata": {},
   "outputs": [],
   "source": []
  }
 ],
 "metadata": {
  "kernelspec": {
   "display_name": "Python 3",
   "language": "python",
   "name": "python3"
  },
  "language_info": {
   "codemirror_mode": {
    "name": "ipython",
    "version": 3
   },
   "file_extension": ".py",
   "mimetype": "text/x-python",
   "name": "python",
   "nbconvert_exporter": "python",
   "pygments_lexer": "ipython3",
   "version": "3.7.4"
  }
 },
 "nbformat": 4,
 "nbformat_minor": 4
}
