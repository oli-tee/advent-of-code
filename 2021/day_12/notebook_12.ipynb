{
 "cells": [
  {
   "cell_type": "code",
   "execution_count": 100,
   "metadata": {},
   "outputs": [],
   "source": [
    "from importlib import reload\n",
    "import module12\n",
    "reload(module12)\n",
    "from collections import Counter"
   ]
  },
  {
   "cell_type": "code",
   "execution_count": 101,
   "metadata": {},
   "outputs": [
    {
     "data": {
      "text/plain": [
       "19"
      ]
     },
     "execution_count": 101,
     "metadata": {},
     "output_type": "execute_result"
    }
   ],
   "source": [
    "edges = module12.parse_input(module12.read_data('test_input.txt'))\n",
    "len(module12.recursive_traverser(edges, ['start']))"
   ]
  },
  {
   "cell_type": "code",
   "execution_count": 104,
   "metadata": {},
   "outputs": [
    {
     "name": "stdout",
     "output_type": "stream",
     "text": [
      "[['start', 'a', 'b', 'end'], ['start', 'a', 'b', 'C', 'b', 'end'], ['start', 'a', 'b', 'C', 'b', 'C', 'end'], ['start', 'a', 'b', 'C', 'end']]\n",
      "--\n",
      "[['start', 'a', 'b', 'end'], ['duplicate_used', 'start', 'a', 'b', 'C', 'b', 'end'], ['duplicate_used', 'start', 'a', 'b', 'C', 'b', 'C', 'end'], ['start', 'a', 'b', 'C', 'end']]\n"
     ]
    }
   ],
   "source": [
    "edge_test = ['start-a', 'a-b', 'b-end', 'b-C', 'C-end']\n",
    "print(module12.recursive_traverser_2(module12.parse_input(edge_test), ['start']))\n",
    "print('--')\n",
    "print(module12.recursive_traverser_2_fast(module12.parse_input(edge_test), ['start']))\n",
    "\n"
   ]
  },
  {
   "cell_type": "code",
   "execution_count": 109,
   "metadata": {},
   "outputs": [
    {
     "data": {
      "text/plain": [
       "5178"
      ]
     },
     "execution_count": 109,
     "metadata": {},
     "output_type": "execute_result"
    }
   ],
   "source": [
    "data =module12.read_data('input_12.txt')\n",
    "module12.solve1(data)"
   ]
  },
  {
   "cell_type": "code",
   "execution_count": 112,
   "metadata": {},
   "outputs": [
    {
     "name": "stdout",
     "output_type": "stream",
     "text": [
      "CPU times: user 2 µs, sys: 0 ns, total: 2 µs\n",
      "Wall time: 5.25 µs\n"
     ]
    },
    {
     "data": {
      "text/plain": [
       "130094"
      ]
     },
     "execution_count": 112,
     "metadata": {},
     "output_type": "execute_result"
    }
   ],
   "source": [
    "%time \n",
    "data =module12.read_data('input_12.txt')\n",
    "module12.solve2(data)"
   ]
  },
  {
   "cell_type": "code",
   "execution_count": 113,
   "metadata": {},
   "outputs": [
    {
     "name": "stdout",
     "output_type": "stream",
     "text": [
      "CPU times: user 3 µs, sys: 0 ns, total: 3 µs\n",
      "Wall time: 6.2 µs\n"
     ]
    },
    {
     "data": {
      "text/plain": [
       "130094"
      ]
     },
     "execution_count": 113,
     "metadata": {},
     "output_type": "execute_result"
    }
   ],
   "source": [
    "%time \n",
    "data =module12.read_data('input_12.txt')\n",
    "module12.solve2_fast(data)"
   ]
  },
  {
   "cell_type": "code",
   "execution_count": null,
   "metadata": {},
   "outputs": [],
   "source": []
  }
 ],
 "metadata": {
  "kernelspec": {
   "display_name": "Python 3",
   "language": "python",
   "name": "python3"
  },
  "language_info": {
   "codemirror_mode": {
    "name": "ipython",
    "version": 3
   },
   "file_extension": ".py",
   "mimetype": "text/x-python",
   "name": "python",
   "nbconvert_exporter": "python",
   "pygments_lexer": "ipython3",
   "version": "3.7.4"
  }
 },
 "nbformat": 4,
 "nbformat_minor": 4
}
