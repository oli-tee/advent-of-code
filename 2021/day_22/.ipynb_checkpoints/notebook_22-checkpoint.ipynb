{
 "cells": [
  {
   "cell_type": "code",
   "execution_count": 2,
   "metadata": {},
   "outputs": [],
   "source": [
    "from importlib import reload\n",
    "\n",
    "import module22\n",
    "reload(module22)\n",
    "\n",
    "\n",
    "import numpy as np\n",
    "\n"
   ]
  },
  {
   "cell_type": "raw",
   "metadata": {},
   "source": [
    "module22.update_matrix([], ((10, 12), (10, 12), (10, 12)), 1)"
   ]
  },
  {
   "cell_type": "code",
   "execution_count": 18,
   "metadata": {},
   "outputs": [],
   "source": [
    "import re"
   ]
  },
  {
   "cell_type": "code",
   "execution_count": 19,
   "metadata": {},
   "outputs": [],
   "source": [
    "data = module22.read_data('test_input_1.txt')"
   ]
  },
  {
   "cell_type": "code",
   "execution_count": 20,
   "metadata": {},
   "outputs": [
    {
     "data": {
      "text/plain": [
       "[{'target_value': 1, 'coord_range': Cube(((10, 12), (10, 12), (10, 12))},\n",
       " {'target_value': 1, 'coord_range': Cube(((11, 13), (11, 13), (11, 13))},\n",
       " {'target_value': 0, 'coord_range': Cube(((9, 11), (9, 11), (9, 11))},\n",
       " {'target_value': 1, 'coord_range': Cube(((10, 10), (10, 10), (10, 10))}]"
      ]
     },
     "execution_count": 20,
     "metadata": {},
     "output_type": "execute_result"
    }
   ],
   "source": [
    "data"
   ]
  },
  {
   "cell_type": "code",
   "execution_count": 190,
   "metadata": {},
   "outputs": [],
   "source": [
    "reload(module22)\n",
    "c1 = module22.Cube(((0, 1), (0, 1), (0, 1)))\n",
    "c2 = module22.Cube(((0, 3), (0, 3), (0, 3)))\n",
    "c4 = module22.Cube(((2, 5), (2, 5), (2, 5)))\n",
    "c3 = module22.Cube(((-2, 0), (-2, 0), (-2, 0)))\n",
    "c5= module22.Cube(((-2, -1), (-2, -1), (-2, -1)))"
   ]
  },
  {
   "cell_type": "code",
   "execution_count": 191,
   "metadata": {},
   "outputs": [
    {
     "data": {
      "text/plain": [
       "Cube(((0, 1), (0, 1), (0, 1))"
      ]
     },
     "execution_count": 191,
     "metadata": {},
     "output_type": "execute_result"
    }
   ],
   "source": [
    "c1"
   ]
  },
  {
   "cell_type": "code",
   "execution_count": 193,
   "metadata": {},
   "outputs": [
    {
     "data": {
      "text/plain": [
       "{'intersection': [],\n",
       " 'self_only': [Cube(((-2, -1), (-2, -1), (-2, -1))],\n",
       " 'other_only': [Cube(((0, 3), (0, 3), (0, 3))]}"
      ]
     },
     "execution_count": 193,
     "metadata": {},
     "output_type": "execute_result"
    }
   ],
   "source": [
    "c5.intersect_and_split(c2)"
   ]
  },
  {
   "cell_type": "code",
   "execution_count": 183,
   "metadata": {},
   "outputs": [
    {
     "name": "stdout",
     "output_type": "stream",
     "text": [
      "Cube(((0, 3), (0, 3), (0, 3))\n",
      "Cube(((2, 5), (2, 5), (2, 5))\n"
     ]
    },
    {
     "data": {
      "text/plain": [
       "{'intersection': [Cube(((2, 3), (2, 3), (2, 3))],\n",
       " 'self_only': [Cube(((0, 1), (0, 1), (0, 1)),\n",
       "  Cube(((0, 1), (0, 1), (2, 3)),\n",
       "  Cube(((0, 1), (2, 3), (0, 1)),\n",
       "  Cube(((0, 1), (2, 3), (2, 3)),\n",
       "  Cube(((2, 3), (0, 1), (0, 1)),\n",
       "  Cube(((2, 3), (0, 1), (2, 3)),\n",
       "  Cube(((2, 3), (2, 3), (0, 1))],\n",
       " 'other_only': [Cube(((2, 3), (2, 3), (4, 5)),\n",
       "  Cube(((2, 3), (4, 5), (2, 3)),\n",
       "  Cube(((2, 3), (4, 5), (4, 5)),\n",
       "  Cube(((4, 5), (2, 3), (2, 3)),\n",
       "  Cube(((4, 5), (2, 3), (4, 5)),\n",
       "  Cube(((4, 5), (4, 5), (2, 3)),\n",
       "  Cube(((4, 5), (4, 5), (4, 5))]}"
      ]
     },
     "execution_count": 183,
     "metadata": {},
     "output_type": "execute_result"
    }
   ],
   "source": [
    "print(c2)\n",
    "print(c4)\n",
    "c2.intersect_and_split(c4)"
   ]
  },
  {
   "cell_type": "code",
   "execution_count": 197,
   "metadata": {},
   "outputs": [
    {
     "data": {
      "text/plain": [
       "[{'target_value': 1, 'coord_range': ((10, 12), (10, 12), (10, 12))},\n",
       " {'target_value': 1, 'coord_range': ((11, 13), (11, 13), (11, 13))},\n",
       " {'target_value': 0, 'coord_range': ((9, 11), (9, 11), (9, 11))},\n",
       " {'target_value': 1, 'coord_range': ((10, 10), (10, 10), (10, 10))}]"
      ]
     },
     "execution_count": 197,
     "metadata": {},
     "output_type": "execute_result"
    }
   ],
   "source": [
    "data"
   ]
  },
  {
   "cell_type": "code",
   "execution_count": 194,
   "metadata": {},
   "outputs": [],
   "source": []
  },
  {
   "cell_type": "code",
   "execution_count": 195,
   "metadata": {},
   "outputs": [
    {
     "data": {
      "text/plain": [
       "[Cube(((10, 12), (10, 12), (10, 12))]"
      ]
     },
     "execution_count": 195,
     "metadata": {},
     "output_type": "execute_result"
    }
   ],
   "source": [
    "cubes_on"
   ]
  },
  {
   "cell_type": "code",
   "execution_count": 3,
   "metadata": {},
   "outputs": [
    {
     "name": "stdout",
     "output_type": "stream",
     "text": [
      "[{'target_value': 1, 'coord_range': ((10, 12), (10, 12), (10, 12))}, {'target_value': 1, 'coord_range': ((11, 13), (11, 13), (11, 13))}, {'target_value': 0, 'coord_range': ((9, 11), (9, 11), (9, 11))}, {'target_value': 1, 'coord_range': ((10, 10), (10, 10), (10, 10))}]\n"
     ]
    }
   ],
   "source": [
    "import module22\n",
    "\n",
    "data = module22.read_data('test_input_1.txt')\n",
    "print(data)\n",
    "\n"
   ]
  },
  {
   "cell_type": "code",
   "execution_count": 11,
   "metadata": {},
   "outputs": [
    {
     "data": {
      "text/plain": [
       "[{'target_value': 1, 'coord_range': ((10, 12), (10, 12), (10, 12))},\n",
       " {'target_value': 1, 'coord_range': ((11, 13), (11, 13), (11, 13))},\n",
       " {'target_value': 0, 'coord_range': ((9, 11), (9, 11), (9, 11))},\n",
       " {'target_value': 1, 'coord_range': ((10, 10), (10, 10), (10, 10))}]"
      ]
     },
     "execution_count": 11,
     "metadata": {},
     "output_type": "execute_result"
    }
   ],
   "source": [
    "data"
   ]
  },
  {
   "cell_type": "code",
   "execution_count": null,
   "metadata": {},
   "outputs": [],
   "source": []
  },
  {
   "cell_type": "markdown",
   "metadata": {},
   "source": [
    "# OK"
   ]
  },
  {
   "cell_type": "code",
   "execution_count": 43,
   "metadata": {},
   "outputs": [
    {
     "data": {
      "text/plain": [
       "<module 'module22' from '/Users/oli/git_tree/advent-of-code/2021/day_22/module22.py'>"
      ]
     },
     "execution_count": 43,
     "metadata": {},
     "output_type": "execute_result"
    }
   ],
   "source": [
    "import module22\n",
    "reload(module22)"
   ]
  },
  {
   "cell_type": "code",
   "execution_count": 44,
   "metadata": {},
   "outputs": [],
   "source": [
    "data = module22.read_data('test_input_1.txt')"
   ]
  },
  {
   "cell_type": "code",
   "execution_count": null,
   "metadata": {},
   "outputs": [],
   "source": []
  },
  {
   "cell_type": "code",
   "execution_count": 45,
   "metadata": {},
   "outputs": [
    {
     "data": {
      "text/plain": [
       "[{'target_value': 0, 'coord_range': Cube(((9, 11), (9, 11), (9, 11))},\n",
       " {'target_value': 1, 'coord_range': Cube(((10, 10), (10, 10), (10, 10))}]"
      ]
     },
     "execution_count": 45,
     "metadata": {},
     "output_type": "execute_result"
    }
   ],
   "source": [
    "items_to_merge"
   ]
  },
  {
   "cell_type": "code",
   "execution_count": 46,
   "metadata": {},
   "outputs": [],
   "source": [
    "cubes_on = []"
   ]
  },
  {
   "cell_type": "code",
   "execution_count": 47,
   "metadata": {},
   "outputs": [
    {
     "data": {
      "text/plain": [
       "[{'target_value': 1, 'coord_range': Cube((((10, 12), (10, 12), (10, 12)))},\n",
       " {'target_value': 1, 'coord_range': Cube((((11, 13), (11, 13), (11, 13)))},\n",
       " {'target_value': 0, 'coord_range': Cube((((9, 11), (9, 11), (9, 11)))},\n",
       " {'target_value': 1, 'coord_range': Cube((((10, 10), (10, 10), (10, 10)))}]"
      ]
     },
     "execution_count": 47,
     "metadata": {},
     "output_type": "execute_result"
    }
   ],
   "source": [
    "data"
   ]
  },
  {
   "cell_type": "code",
   "execution_count": 48,
   "metadata": {},
   "outputs": [
    {
     "data": {
      "text/plain": [
       "0"
      ]
     },
     "execution_count": 48,
     "metadata": {},
     "output_type": "execute_result"
    }
   ],
   "source": [
    "len(new_item['coord_range'].find_intersecting_cubes(cubes_on))"
   ]
  },
  {
   "cell_type": "code",
   "execution_count": 68,
   "metadata": {},
   "outputs": [
    {
     "name": "stdout",
     "output_type": "stream",
     "text": [
      "39769202447808\n"
     ]
    }
   ],
   "source": [
    "data = module22.read_data('test_input_2.txt')[:-2]\n",
    " \n",
    "#items_to_merge = [{'target_value': 1, 'coord_range': module22.Cube(((10, 20), (10, 20), (1, 1)))},\n",
    "# {'target_value': 1, 'coord_range': module22.Cube(((15, 25), (15, 25), (1, 1)))}\n",
    "items_to_merge = data[:]           \n",
    "                                         \n",
    "cubes_on = []    \n",
    "    \n",
    "fuse = 1000\n",
    "while len(items_to_merge) > 0 and fuse > 0:\n",
    "    \n",
    "    fuse -= 1\n",
    "    #print(f\"Cubes to merge: {items_to_merge}\")\n",
    "    #print(f\"Cubes_on: {cubes_on}\")\n",
    "    \n",
    "    #print('------')\n",
    "    new_item = items_to_merge[0]\n",
    "    #print(f\"merging item {new_item}, current volume is {get_total_volume(cubes_on)}\")\n",
    "    #print(f'queue: {items_to_merge}')\n",
    "    #print('-----')\n",
    "    #print(f\"new item: {new_item}\")\n",
    "    \n",
    "    if new_item['target_value'] == 1:\n",
    "        intersecting_cubes = new_item['coord_range'].find_intersecting_cubes(cubes_on)\n",
    "        if len(intersecting_cubes) == 0:\n",
    "            cubes_on.append(new_item['coord_range'])\n",
    "            #print(f\">> Adding to cubes_on: {new_item['coord_range']}\")\n",
    "            items_to_merge = items_to_merge[1:]\n",
    "    \n",
    "        else:\n",
    "            \n",
    "            cube_2 = intersecting_cubes[0]\n",
    "            inter = new_item['coord_range'].intersect_and_split(cube_2)\n",
    "            cubes_to_queue = inter['self_only']\n",
    "            items_to_merge = [{'target_value': 1, 'coord_range': x} for x in cubes_to_queue] + items_to_merge[1:]\n",
    "    \n",
    "    elif new_item['target_value'] == 0:\n",
    "        sub_cubes_to_add = []\n",
    "        i = 0\n",
    "        while i < len(cubes_on):\n",
    "            inter = new_item['coord_range'].intersect_and_split(cubes_on[i])\n",
    "            if len(inter['intersection']) > 0:\n",
    "                cubes_on = cubes_on[1:]\n",
    "                sub_cubes_to_add += inter['other_only']\n",
    "            else:\n",
    "                i += 1\n",
    "        cubes_on += sub_cubes_to_add\n",
    "        items_to_merge.pop(0)\n",
    "        \n",
    "    else:\n",
    "        raise ValueError\n",
    "        \n",
    "if fuse == 0:\n",
    "    print('FUSED')\n",
    "\n",
    "cubes_on\n",
    "print(get_total_volume(cubes_on))"
   ]
  },
  {
   "cell_type": "code",
   "execution_count": null,
   "metadata": {},
   "outputs": [],
   "source": []
  },
  {
   "cell_type": "code",
   "execution_count": 53,
   "metadata": {},
   "outputs": [],
   "source": [
    "def get_total_volume(cubes):\n",
    "    return sum([cube.get_volume() for cube in cubes])"
   ]
  },
  {
   "cell_type": "code",
   "execution_count": 54,
   "metadata": {},
   "outputs": [
    {
     "data": {
      "text/plain": [
       "38"
      ]
     },
     "execution_count": 54,
     "metadata": {},
     "output_type": "execute_result"
    }
   ],
   "source": []
  },
  {
   "cell_type": "code",
   "execution_count": 56,
   "metadata": {},
   "outputs": [
    {
     "data": {
      "text/plain": [
       "8"
      ]
     },
     "execution_count": 56,
     "metadata": {},
     "output_type": "execute_result"
    }
   ],
   "source": [
    "module22.Cube(((1,2), (1, 2), (1,2))).get_volume()"
   ]
  },
  {
   "cell_type": "code",
   "execution_count": 13,
   "metadata": {},
   "outputs": [
    {
     "data": {
      "text/plain": [
       "{'terget_value': 1, 'coord_range': Cube(((10, 10), (10, 10), (10, 10))}"
      ]
     },
     "execution_count": 13,
     "metadata": {},
     "output_type": "execute_result"
    }
   ],
   "source": [
    "new_item"
   ]
  },
  {
   "cell_type": "code",
   "execution_count": 4,
   "metadata": {},
   "outputs": [],
   "source": [
    "row = data[1]§a\n",
    "new_"
   ]
  },
  {
   "cell_type": "code",
   "execution_count": 5,
   "metadata": {},
   "outputs": [
    {
     "data": {
      "text/plain": [
       "{'target_value': 1, 'coord_range': ((11, 13), (11, 13), (11, 13))}"
      ]
     },
     "execution_count": 5,
     "metadata": {},
     "output_type": "execute_result"
    }
   ],
   "source": [
    "row"
   ]
  },
  {
   "cell_type": "code",
   "execution_count": 6,
   "metadata": {},
   "outputs": [],
   "source": [
    "new_cube = module22.Cube(row['coord_range'])"
   ]
  },
  {
   "cell_type": "code",
   "execution_count": 7,
   "metadata": {},
   "outputs": [
    {
     "data": {
      "text/plain": [
       "Cube(((11, 13), (11, 13), (11, 13))"
      ]
     },
     "execution_count": 7,
     "metadata": {},
     "output_type": "execute_result"
    }
   ],
   "source": [
    "new_cube"
   ]
  },
  {
   "cell_type": "code",
   "execution_count": 9,
   "metadata": {},
   "outputs": [
    {
     "data": {
      "text/plain": [
       "[Cube(((10, 12), (10, 12), (10, 12))]"
      ]
     },
     "execution_count": 9,
     "metadata": {},
     "output_type": "execute_result"
    }
   ],
   "source": [
    "cubes_on"
   ]
  },
  {
   "cell_type": "code",
   "execution_count": 10,
   "metadata": {},
   "outputs": [
    {
     "data": {
      "text/plain": [
       "True"
      ]
     },
     "execution_count": 10,
     "metadata": {},
     "output_type": "execute_result"
    }
   ],
   "source": [
    "row['target_value'] == 1"
   ]
  },
  {
   "cell_type": "code",
   "execution_count": null,
   "metadata": {},
   "outputs": [],
   "source": []
  }
 ],
 "metadata": {
  "kernelspec": {
   "display_name": "Python 3",
   "language": "python",
   "name": "python3"
  },
  "language_info": {
   "codemirror_mode": {
    "name": "ipython",
    "version": 3
   },
   "file_extension": ".py",
   "mimetype": "text/x-python",
   "name": "python",
   "nbconvert_exporter": "python",
   "pygments_lexer": "ipython3",
   "version": "3.7.4"
  }
 },
 "nbformat": 4,
 "nbformat_minor": 4
}
