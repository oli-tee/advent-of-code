{
 "cells": [
  {
   "cell_type": "code",
   "execution_count": 2,
   "metadata": {},
   "outputs": [],
   "source": [
    "from importlib import reload\n",
    "\n",
    "import module22\n",
    "reload(module22)\n",
    "\n",
    "\n",
    "import numpy as np\n",
    "\n"
   ]
  },
  {
   "cell_type": "raw",
   "metadata": {},
   "source": [
    "module22.update_matrix([], ((10, 12), (10, 12), (10, 12)), 1)"
   ]
  },
  {
   "cell_type": "code",
   "execution_count": 18,
   "metadata": {},
   "outputs": [],
   "source": [
    "import re"
   ]
  },
  {
   "cell_type": "code",
   "execution_count": 19,
   "metadata": {},
   "outputs": [],
   "source": [
    "data = module22.read_data('test_input_1.txt')"
   ]
  },
  {
   "cell_type": "code",
   "execution_count": 20,
   "metadata": {},
   "outputs": [
    {
     "data": {
      "text/plain": [
       "[{'target_value': 1, 'coord_range': Cube(((10, 12), (10, 12), (10, 12))},\n",
       " {'target_value': 1, 'coord_range': Cube(((11, 13), (11, 13), (11, 13))},\n",
       " {'target_value': 0, 'coord_range': Cube(((9, 11), (9, 11), (9, 11))},\n",
       " {'target_value': 1, 'coord_range': Cube(((10, 10), (10, 10), (10, 10))}]"
      ]
     },
     "execution_count": 20,
     "metadata": {},
     "output_type": "execute_result"
    }
   ],
   "source": [
    "data"
   ]
  },
  {
   "cell_type": "code",
   "execution_count": 190,
   "metadata": {},
   "outputs": [],
   "source": [
    "reload(module22)\n",
    "c1 = module22.Cube(((0, 1), (0, 1), (0, 1)))\n",
    "c2 = module22.Cube(((0, 3), (0, 3), (0, 3)))\n",
    "c4 = module22.Cube(((2, 5), (2, 5), (2, 5)))\n",
    "c3 = module22.Cube(((-2, 0), (-2, 0), (-2, 0)))\n",
    "c5= module22.Cube(((-2, -1), (-2, -1), (-2, -1)))"
   ]
  },
  {
   "cell_type": "code",
   "execution_count": 191,
   "metadata": {},
   "outputs": [
    {
     "data": {
      "text/plain": [
       "Cube(((0, 1), (0, 1), (0, 1))"
      ]
     },
     "execution_count": 191,
     "metadata": {},
     "output_type": "execute_result"
    }
   ],
   "source": [
    "c1"
   ]
  },
  {
   "cell_type": "code",
   "execution_count": 193,
   "metadata": {},
   "outputs": [
    {
     "data": {
      "text/plain": [
       "{'intersection': [],\n",
       " 'self_only': [Cube(((-2, -1), (-2, -1), (-2, -1))],\n",
       " 'other_only': [Cube(((0, 3), (0, 3), (0, 3))]}"
      ]
     },
     "execution_count": 193,
     "metadata": {},
     "output_type": "execute_result"
    }
   ],
   "source": [
    "c5.intersect_and_split(c2)"
   ]
  },
  {
   "cell_type": "code",
   "execution_count": 183,
   "metadata": {},
   "outputs": [
    {
     "name": "stdout",
     "output_type": "stream",
     "text": [
      "Cube(((0, 3), (0, 3), (0, 3))\n",
      "Cube(((2, 5), (2, 5), (2, 5))\n"
     ]
    },
    {
     "data": {
      "text/plain": [
       "{'intersection': [Cube(((2, 3), (2, 3), (2, 3))],\n",
       " 'self_only': [Cube(((0, 1), (0, 1), (0, 1)),\n",
       "  Cube(((0, 1), (0, 1), (2, 3)),\n",
       "  Cube(((0, 1), (2, 3), (0, 1)),\n",
       "  Cube(((0, 1), (2, 3), (2, 3)),\n",
       "  Cube(((2, 3), (0, 1), (0, 1)),\n",
       "  Cube(((2, 3), (0, 1), (2, 3)),\n",
       "  Cube(((2, 3), (2, 3), (0, 1))],\n",
       " 'other_only': [Cube(((2, 3), (2, 3), (4, 5)),\n",
       "  Cube(((2, 3), (4, 5), (2, 3)),\n",
       "  Cube(((2, 3), (4, 5), (4, 5)),\n",
       "  Cube(((4, 5), (2, 3), (2, 3)),\n",
       "  Cube(((4, 5), (2, 3), (4, 5)),\n",
       "  Cube(((4, 5), (4, 5), (2, 3)),\n",
       "  Cube(((4, 5), (4, 5), (4, 5))]}"
      ]
     },
     "execution_count": 183,
     "metadata": {},
     "output_type": "execute_result"
    }
   ],
   "source": [
    "print(c2)\n",
    "print(c4)\n",
    "c2.intersect_and_split(c4)"
   ]
  },
  {
   "cell_type": "code",
   "execution_count": 197,
   "metadata": {},
   "outputs": [
    {
     "data": {
      "text/plain": [
       "[{'target_value': 1, 'coord_range': ((10, 12), (10, 12), (10, 12))},\n",
       " {'target_value': 1, 'coord_range': ((11, 13), (11, 13), (11, 13))},\n",
       " {'target_value': 0, 'coord_range': ((9, 11), (9, 11), (9, 11))},\n",
       " {'target_value': 1, 'coord_range': ((10, 10), (10, 10), (10, 10))}]"
      ]
     },
     "execution_count": 197,
     "metadata": {},
     "output_type": "execute_result"
    }
   ],
   "source": [
    "data"
   ]
  },
  {
   "cell_type": "code",
   "execution_count": 194,
   "metadata": {},
   "outputs": [],
   "source": []
  },
  {
   "cell_type": "code",
   "execution_count": 195,
   "metadata": {},
   "outputs": [
    {
     "data": {
      "text/plain": [
       "[Cube(((10, 12), (10, 12), (10, 12))]"
      ]
     },
     "execution_count": 195,
     "metadata": {},
     "output_type": "execute_result"
    }
   ],
   "source": [
    "cubes_on"
   ]
  },
  {
   "cell_type": "code",
   "execution_count": 3,
   "metadata": {},
   "outputs": [
    {
     "name": "stdout",
     "output_type": "stream",
     "text": [
      "[{'target_value': 1, 'coord_range': ((10, 12), (10, 12), (10, 12))}, {'target_value': 1, 'coord_range': ((11, 13), (11, 13), (11, 13))}, {'target_value': 0, 'coord_range': ((9, 11), (9, 11), (9, 11))}, {'target_value': 1, 'coord_range': ((10, 10), (10, 10), (10, 10))}]\n"
     ]
    }
   ],
   "source": [
    "import module22\n",
    "\n",
    "data = module22.read_data('test_input_1.txt')\n",
    "print(data)\n",
    "\n"
   ]
  },
  {
   "cell_type": "code",
   "execution_count": 11,
   "metadata": {},
   "outputs": [
    {
     "data": {
      "text/plain": [
       "[{'target_value': 1, 'coord_range': ((10, 12), (10, 12), (10, 12))},\n",
       " {'target_value': 1, 'coord_range': ((11, 13), (11, 13), (11, 13))},\n",
       " {'target_value': 0, 'coord_range': ((9, 11), (9, 11), (9, 11))},\n",
       " {'target_value': 1, 'coord_range': ((10, 10), (10, 10), (10, 10))}]"
      ]
     },
     "execution_count": 11,
     "metadata": {},
     "output_type": "execute_result"
    }
   ],
   "source": [
    "data"
   ]
  },
  {
   "cell_type": "code",
   "execution_count": null,
   "metadata": {},
   "outputs": [],
   "source": []
  },
  {
   "cell_type": "markdown",
   "metadata": {},
   "source": [
    "# OK"
   ]
  },
  {
   "cell_type": "code",
   "execution_count": 86,
   "metadata": {},
   "outputs": [
    {
     "data": {
      "text/plain": [
       "<module 'module22' from '/Users/oli/git_tree/advent-of-code/2021/day_22/module22.py'>"
      ]
     },
     "execution_count": 86,
     "metadata": {},
     "output_type": "execute_result"
    }
   ],
   "source": [
    "import module22\n",
    "reload(module22)"
   ]
  },
  {
   "cell_type": "code",
   "execution_count": 87,
   "metadata": {},
   "outputs": [
    {
     "data": {
      "text/plain": [
       "39"
      ]
     },
     "execution_count": 87,
     "metadata": {},
     "output_type": "execute_result"
    }
   ],
   "source": [
    "module22.solve1(module22.read_data('test_input_1.txt'))"
   ]
  },
  {
   "cell_type": "code",
   "execution_count": 88,
   "metadata": {},
   "outputs": [
    {
     "data": {
      "text/plain": [
       "590784"
      ]
     },
     "execution_count": 88,
     "metadata": {},
     "output_type": "execute_result"
    }
   ],
   "source": [
    "data = [row for row in module22.read_data('test_input_2.txt') if row['coord_range'].is_valid()]\n",
    "module22.solve1(data)"
   ]
  },
  {
   "cell_type": "code",
   "execution_count": 89,
   "metadata": {},
   "outputs": [
    {
     "data": {
      "text/plain": [
       "577205"
      ]
     },
     "execution_count": 89,
     "metadata": {},
     "output_type": "execute_result"
    }
   ],
   "source": [
    "data = [row for row in module22.read_data('input_22.txt') if row['coord_range'].is_valid()]\n",
    "module22.solve1(data)"
   ]
  },
  {
   "cell_type": "code",
   "execution_count": null,
   "metadata": {},
   "outputs": [],
   "source": []
  }
 ],
 "metadata": {
  "kernelspec": {
   "display_name": "Python 3",
   "language": "python",
   "name": "python3"
  },
  "language_info": {
   "codemirror_mode": {
    "name": "ipython",
    "version": 3
   },
   "file_extension": ".py",
   "mimetype": "text/x-python",
   "name": "python",
   "nbconvert_exporter": "python",
   "pygments_lexer": "ipython3",
   "version": "3.7.4"
  }
 },
 "nbformat": 4,
 "nbformat_minor": 4
}
