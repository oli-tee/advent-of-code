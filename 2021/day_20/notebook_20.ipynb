{
 "cells": [
  {
   "cell_type": "code",
   "execution_count": 227,
   "metadata": {},
   "outputs": [],
   "source": [
    "from importlib import reload\n",
    "\n",
    "import module20\n",
    "reload(module20)\n",
    "import numpy as np\n",
    "\n"
   ]
  },
  {
   "cell_type": "code",
   "execution_count": 228,
   "metadata": {},
   "outputs": [
    {
     "name": "stdout",
     "output_type": "stream",
     "text": [
      "enhancing #0...\n",
      "enhancing #1...\n"
     ]
    },
    {
     "data": {
      "text/plain": [
       "35"
      ]
     },
     "execution_count": 228,
     "metadata": {},
     "output_type": "execute_result"
    }
   ],
   "source": [
    "module20.solve1(module20.read_data('test_input.txt'))"
   ]
  },
  {
   "cell_type": "code",
   "execution_count": 219,
   "metadata": {},
   "outputs": [
    {
     "data": {
      "text/plain": [
       "5437"
      ]
     },
     "execution_count": 219,
     "metadata": {},
     "output_type": "execute_result"
    }
   ],
   "source": [
    "module20.solve1(module20.read_data('input_20.txt'))"
   ]
  },
  {
   "cell_type": "code",
   "execution_count": 222,
   "metadata": {},
   "outputs": [
    {
     "name": "stdout",
     "output_type": "stream",
     "text": [
      "enhancing #0...\n",
      "enhancing #1...\n",
      "enhancing #2...\n",
      "enhancing #3...\n",
      "enhancing #4...\n",
      "enhancing #5...\n",
      "enhancing #6...\n",
      "enhancing #7...\n",
      "enhancing #8...\n",
      "enhancing #9...\n",
      "enhancing #10...\n",
      "enhancing #11...\n",
      "enhancing #12...\n",
      "enhancing #13...\n",
      "enhancing #14...\n",
      "enhancing #15...\n",
      "enhancing #16...\n",
      "enhancing #17...\n",
      "enhancing #18...\n",
      "enhancing #19...\n",
      "enhancing #20...\n",
      "enhancing #21...\n",
      "enhancing #22...\n",
      "enhancing #23...\n",
      "enhancing #24...\n",
      "enhancing #25...\n",
      "enhancing #26...\n",
      "enhancing #27...\n",
      "enhancing #28...\n",
      "enhancing #29...\n",
      "enhancing #30...\n",
      "enhancing #31...\n",
      "enhancing #32...\n",
      "enhancing #33...\n",
      "enhancing #34...\n",
      "enhancing #35...\n",
      "enhancing #36...\n",
      "enhancing #37...\n",
      "enhancing #38...\n",
      "enhancing #39...\n",
      "enhancing #40...\n",
      "enhancing #41...\n",
      "enhancing #42...\n",
      "enhancing #43...\n",
      "enhancing #44...\n",
      "enhancing #45...\n",
      "enhancing #46...\n",
      "enhancing #47...\n",
      "enhancing #48...\n",
      "enhancing #49...\n"
     ]
    },
    {
     "data": {
      "text/plain": [
       "19340"
      ]
     },
     "execution_count": 222,
     "metadata": {},
     "output_type": "execute_result"
    }
   ],
   "source": [
    "module20.solve2(module20.read_data('input_20.txt'))"
   ]
  },
  {
   "cell_type": "code",
   "execution_count": null,
   "metadata": {},
   "outputs": [],
   "source": []
  }
 ],
 "metadata": {
  "kernelspec": {
   "display_name": "Python 3",
   "language": "python",
   "name": "python3"
  },
  "language_info": {
   "codemirror_mode": {
    "name": "ipython",
    "version": 3
   },
   "file_extension": ".py",
   "mimetype": "text/x-python",
   "name": "python",
   "nbconvert_exporter": "python",
   "pygments_lexer": "ipython3",
   "version": "3.7.4"
  }
 },
 "nbformat": 4,
 "nbformat_minor": 4
}
