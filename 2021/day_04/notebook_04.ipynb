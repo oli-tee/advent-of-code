{
 "cells": [
  {
   "cell_type": "code",
   "execution_count": 308,
   "metadata": {},
   "outputs": [
    {
     "data": {
      "text/plain": [
       "<module 'module_04' from '/Users/oli/git_tree/datascience/advent/2021/day_04/module_04.py'>"
      ]
     },
     "execution_count": 308,
     "metadata": {},
     "output_type": "execute_result"
    }
   ],
   "source": [
    "from importlib import reload\n",
    "import module_04\n",
    "reload(module_04)\n"
   ]
  },
  {
   "cell_type": "code",
   "execution_count": 309,
   "metadata": {},
   "outputs": [
    {
     "name": "stdout",
     "output_type": "stream",
     "text": [
      "7\n",
      "4\n",
      "9\n",
      "5\n",
      "11\n",
      "17\n",
      "23\n",
      "2\n",
      "0\n",
      "14\n",
      "21\n",
      "24\n",
      "10\n",
      "16\n",
      "13\n",
      "total_unmarked = 148\n",
      "[[3, 15, 0, 0, 22], [0, 18, 0, 0, 0], [19, 8, 0, 25, 0], [20, 0, 0, 0, 0], [0, 0, 0, 12, 6]]\n"
     ]
    },
    {
     "data": {
      "text/plain": [
       "1924"
      ]
     },
     "execution_count": 309,
     "metadata": {},
     "output_type": "execute_result"
    }
   ],
   "source": [
    "data = module_04.read_data('test_input.txt')\n",
    "module_04.solve2(data)"
   ]
  },
  {
   "cell_type": "code",
   "execution_count": 311,
   "metadata": {},
   "outputs": [],
   "source": [
    "data = module_04.read_data('input_04.txt')"
   ]
  },
  {
   "cell_type": "code",
   "execution_count": 312,
   "metadata": {},
   "outputs": [
    {
     "data": {
      "text/plain": [
       "71708"
      ]
     },
     "execution_count": 312,
     "metadata": {},
     "output_type": "execute_result"
    }
   ],
   "source": [
    "module_04.solve(data)"
   ]
  },
  {
   "cell_type": "code",
   "execution_count": 313,
   "metadata": {},
   "outputs": [
    {
     "name": "stdout",
     "output_type": "stream",
     "text": [
      "6\n",
      "69\n",
      "28\n",
      "50\n",
      "36\n",
      "84\n",
      "49\n",
      "13\n",
      "48\n",
      "90\n",
      "1\n",
      "33\n",
      "71\n",
      "0\n",
      "94\n",
      "59\n",
      "53\n",
      "58\n",
      "60\n",
      "96\n",
      "30\n",
      "34\n",
      "29\n",
      "91\n",
      "11\n",
      "41\n",
      "77\n",
      "95\n",
      "17\n",
      "80\n",
      "85\n",
      "93\n",
      "7\n",
      "9\n",
      "74\n",
      "89\n",
      "18\n",
      "25\n",
      "26\n",
      "8\n",
      "87\n",
      "38\n",
      "68\n",
      "5\n",
      "12\n",
      "43\n",
      "27\n",
      "46\n",
      "62\n",
      "73\n",
      "16\n",
      "55\n",
      "22\n",
      "4\n",
      "65\n",
      "76\n",
      "54\n",
      "52\n",
      "83\n",
      "10\n",
      "21\n",
      "67\n",
      "15\n",
      "47\n",
      "45\n",
      "40\n",
      "35\n",
      "66\n",
      "79\n",
      "51\n",
      "75\n",
      "39\n",
      "64\n",
      "24\n",
      "37\n",
      "72\n",
      "3\n",
      "44\n",
      "82\n",
      "32\n",
      "78\n",
      "63\n",
      "57\n",
      "2\n",
      "86\n",
      "31\n",
      "19\n",
      "92\n",
      "14\n",
      "97\n",
      "total_unmarked = 358\n",
      "[[0, 0, 0, 42, 0], [0, 0, 98, 0, 0], [0, 0, 0, 20, 0], [56, 0, 0, 0, 81], [0, 0, 0, 0, 61]]\n"
     ]
    },
    {
     "data": {
      "text/plain": [
       "34726"
      ]
     },
     "execution_count": 313,
     "metadata": {},
     "output_type": "execute_result"
    }
   ],
   "source": [
    "module_04.solve2(data)"
   ]
  },
  {
   "cell_type": "code",
   "execution_count": 305,
   "metadata": {},
   "outputs": [
    {
     "data": {
      "text/plain": [
       "17169"
      ]
     },
     "execution_count": 305,
     "metadata": {},
     "output_type": "execute_result"
    }
   ],
   "source": [
    "177 * 97"
   ]
  },
  {
   "cell_type": "code",
   "execution_count": null,
   "metadata": {},
   "outputs": [],
   "source": []
  }
 ],
 "metadata": {
  "kernelspec": {
   "display_name": "Python 3",
   "language": "python",
   "name": "python3"
  },
  "language_info": {
   "codemirror_mode": {
    "name": "ipython",
    "version": 3
   },
   "file_extension": ".py",
   "mimetype": "text/x-python",
   "name": "python",
   "nbconvert_exporter": "python",
   "pygments_lexer": "ipython3",
   "version": "3.7.4"
  }
 },
 "nbformat": 4,
 "nbformat_minor": 4
}
