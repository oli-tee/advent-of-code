{
 "cells": [
  {
   "cell_type": "code",
   "execution_count": 83,
   "metadata": {},
   "outputs": [],
   "source": [
    "from importlib import reload\n",
    "import module08\n",
    "reload(module08)\n",
    "from typing import List"
   ]
  },
  {
   "cell_type": "raw",
   "metadata": {},
   "source": [
    "\n",
    "module08.read_data('input_08.txt')"
   ]
  },
  {
   "cell_type": "code",
   "execution_count": 26,
   "metadata": {},
   "outputs": [],
   "source": [
    "\n",
    "x = module08.read_data('test_input.txt')[0][1]"
   ]
  },
  {
   "cell_type": "code",
   "execution_count": 27,
   "metadata": {},
   "outputs": [
    {
     "data": {
      "text/plain": [
       "321"
      ]
     },
     "execution_count": 27,
     "metadata": {},
     "output_type": "execute_result"
    }
   ],
   "source": [
    "module08.solve1(module08.read_data('input_08.txt'))"
   ]
  },
  {
   "cell_type": "code",
   "execution_count": 29,
   "metadata": {},
   "outputs": [
    {
     "data": {
      "text/plain": [
       "(['be',\n",
       "  'cfbegad',\n",
       "  'cbdgef',\n",
       "  'fgaecd',\n",
       "  'cgeb',\n",
       "  'fdcge',\n",
       "  'agebfd',\n",
       "  'fecdb',\n",
       "  'fabcd',\n",
       "  'edb'],\n",
       " ['fdgacbe', 'cefdb', 'cefbgd', 'gcbe'])"
      ]
     },
     "execution_count": 29,
     "metadata": {},
     "output_type": "execute_result"
    }
   ],
   "source": []
  },
  {
   "cell_type": "code",
   "execution_count": 72,
   "metadata": {},
   "outputs": [],
   "source": [
    "parsed_row = module08.parse_row('acedgfb cdfbe gcdfa fbcad dab cefabd cdfgeb eafb cagedb ab | cdfeb fcadb cdfeb cdbaf')"
   ]
  },
  {
   "cell_type": "code",
   "execution_count": 84,
   "metadata": {},
   "outputs": [],
   "source": [
    "def get_segments_that_appear_n_times(digit_definitions: List[str], n: int):\n",
    "    segment_activation_count = dict(Counter(''.join(digit_definitions)))\n",
    "    return [x for x in segment_activation_count if segment_activation_count[x] == n]\n",
    "\n",
    "def get_numbers_that_have_n_segments(digit_definitions, n):\n",
    "    return [digit for digit in digit_definitions if len(digit) == 3]"
   ]
  },
  {
   "cell_type": "code",
   "execution_count": 73,
   "metadata": {},
   "outputs": [],
   "source": [
    "mapping = [None for i in range(7)]\n",
    "\n",
    "digits = parsed_row[0]\n",
    "segment_activation_count = dict(Counter(''.join(digits)))\n",
    "\n",
    "# position 4: 4 times \n",
    "mapping[4] = get_segments_that_appear_n_times(digits, 4)[0]\n",
    "mapping[1] = get_segments_that_appear_n_times(digits, 6)[0]\n",
    "mapping[5] = get_segments_that_appear_n_times(digits, 9)[0]\n"
   ]
  },
  {
   "cell_type": "code",
   "execution_count": 74,
   "metadata": {},
   "outputs": [],
   "source": [
    "\n",
    "# position 0 can be deduced from digits 7 (3 on) and 1 (2 on)\n",
    "seven = [0]\n",
    "one = get_numbers_that_have_n_segments(digits, 2)[0]\n",
    "\n",
    "mapping[0] = [x for x in seven if x not in one][0]\n",
    "eighters = get_segments_that_appear_n_times(digits, 8)\n",
    "eighters\n",
    "mapping[2] = [x for x in eighters if x != mapping[0]][0]"
   ]
  },
  {
   "cell_type": "code",
   "execution_count": 75,
   "metadata": {},
   "outputs": [],
   "source": [
    "# position 3 & 6 : 7 times\n",
    "# position 3 is present in digit 4 (4 on)"
   ]
  },
  {
   "cell_type": "code",
   "execution_count": 76,
   "metadata": {},
   "outputs": [
    {
     "data": {
      "text/plain": [
       "['d', 'e', 'a', None, 'g', 'b', None]"
      ]
     },
     "execution_count": 76,
     "metadata": {},
     "output_type": "execute_result"
    }
   ],
   "source": [
    "mapping"
   ]
  },
  {
   "cell_type": "code",
   "execution_count": 77,
   "metadata": {},
   "outputs": [],
   "source": [
    "seveners = get_segments_that_appear_n_times(7)\n",
    "four = get_numbers_that_have_n_segments(digits, 4)[0]"
   ]
  },
  {
   "cell_type": "code",
   "execution_count": 78,
   "metadata": {},
   "outputs": [],
   "source": [
    "mapping[3] = [x for x in seveners if x in four][0]"
   ]
  },
  {
   "cell_type": "code",
   "execution_count": 79,
   "metadata": {},
   "outputs": [
    {
     "data": {
      "text/plain": [
       "['d', 'e', 'a', 'f', 'g', 'b', None]"
      ]
     },
     "execution_count": 79,
     "metadata": {},
     "output_type": "execute_result"
    }
   ],
   "source": [
    "mapping"
   ]
  },
  {
   "cell_type": "code",
   "execution_count": 80,
   "metadata": {},
   "outputs": [],
   "source": [
    "mapping[6] = [x for x in seveners if x not in four][0]"
   ]
  },
  {
   "cell_type": "code",
   "execution_count": 81,
   "metadata": {},
   "outputs": [
    {
     "data": {
      "text/plain": [
       "['d', 'e', 'a', 'f', 'g', 'b', 'c']"
      ]
     },
     "execution_count": 81,
     "metadata": {},
     "output_type": "execute_result"
    }
   ],
   "source": [
    "mapping"
   ]
  },
  {
   "cell_type": "code",
   "execution_count": null,
   "metadata": {},
   "outputs": [],
   "source": []
  },
  {
   "cell_type": "code",
   "execution_count": null,
   "metadata": {},
   "outputs": [],
   "source": []
  },
  {
   "cell_type": "code",
   "execution_count": null,
   "metadata": {},
   "outputs": [],
   "source": []
  },
  {
   "cell_type": "code",
   "execution_count": null,
   "metadata": {},
   "outputs": [],
   "source": []
  },
  {
   "cell_type": "code",
   "execution_count": 61,
   "metadata": {},
   "outputs": [
    {
     "data": {
      "text/plain": [
       "['d', 'g', 'b', None, 'a', 'e', None]"
      ]
     },
     "execution_count": 61,
     "metadata": {},
     "output_type": "execute_result"
    }
   ],
   "source": [
    "mapping"
   ]
  },
  {
   "cell_type": "raw",
   "metadata": {},
   "source": [
    "    position 4: 4 times \n",
    "    position 1: 6 times\n",
    "    position 5: 9 times\n",
    "\n",
    "\n",
    "    position 0 & 2: 8 times\n",
    "    position 0 can be deduced from digits 7 (3 on) and 1 (2 on)\n",
    "\n",
    "    "
   ]
  },
  {
   "cell_type": "code",
   "execution_count": null,
   "metadata": {},
   "outputs": [],
   "source": []
  }
 ],
 "metadata": {
  "kernelspec": {
   "display_name": "Python 3",
   "language": "python",
   "name": "python3"
  },
  "language_info": {
   "codemirror_mode": {
    "name": "ipython",
    "version": 3
   },
   "file_extension": ".py",
   "mimetype": "text/x-python",
   "name": "python",
   "nbconvert_exporter": "python",
   "pygments_lexer": "ipython3",
   "version": "3.7.4"
  }
 },
 "nbformat": 4,
 "nbformat_minor": 4
}
