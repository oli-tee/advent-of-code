{
 "cells": [
  {
   "cell_type": "code",
   "execution_count": 63,
   "metadata": {},
   "outputs": [
    {
     "data": {
      "text/plain": [
       "<module 'module18' from '/Users/oli/git_tree/advent-of-code/2021/day_18/module18.py'>"
      ]
     },
     "execution_count": 63,
     "metadata": {},
     "output_type": "execute_result"
    }
   ],
   "source": [
    "from importlib import reload\n",
    "import module18\n",
    "\n",
    "reload(module18)\n"
   ]
  },
  {
   "cell_type": "code",
   "execution_count": 9,
   "metadata": {},
   "outputs": [],
   "source": [
    "x = module18.read_data('test_input.txt')"
   ]
  },
  {
   "cell_type": "code",
   "execution_count": 10,
   "metadata": {},
   "outputs": [
    {
     "data": {
      "text/plain": [
       "[[[0, [5, 8]], [[1, 7], [9, 6]]], [[4, [1, 2]], [[1, 4], 2]]]"
      ]
     },
     "execution_count": 10,
     "metadata": {},
     "output_type": "execute_result"
    }
   ],
   "source": [
    "x[0]"
   ]
  },
  {
   "cell_type": "code",
   "execution_count": 11,
   "metadata": {},
   "outputs": [
    {
     "data": {
      "text/plain": [
       "10"
      ]
     },
     "execution_count": 11,
     "metadata": {},
     "output_type": "execute_result"
    }
   ],
   "source": [
    "len(x)"
   ]
  },
  {
   "cell_type": "code",
   "execution_count": 12,
   "metadata": {},
   "outputs": [
    {
     "data": {
      "text/plain": [
       "[[[[0, [5, 8]], [[1, 7], [9, 6]]], [[4, [1, 2]], [[1, 4], 2]]],\n",
       " [[[5, [2, 8]], 4], [5, [[9, 9], 0]]],\n",
       " [6, [[[6, 2], [5, 6]], [[7, 6], [4, 7]]]],\n",
       " [[[6, [0, 7]], [0, 9]], [4, [9, [9, 0]]]],\n",
       " [[[7, [6, 4]], [3, [1, 3]]], [[[5, 5], 1], 9]],\n",
       " [[6, [[7, 3], [3, 2]]], [[[3, 8], [5, 7]], 4]],\n",
       " [[[[5, 4], [7, 7]], 8], [[8, 3], 8]],\n",
       " [[9, 3], [[9, 9], [6, [4, 9]]]],\n",
       " [[2, [[7, 7], 7]], [[5, 8], [[9, 3], [0, 2]]]],\n",
       " [[[[5, 2], 5], [8, [3, 7]]], [[5, [7, 5]], [4, 4]]]]"
      ]
     },
     "execution_count": 12,
     "metadata": {},
     "output_type": "execute_result"
    }
   ],
   "source": [
    "x"
   ]
  },
  {
   "cell_type": "code",
   "execution_count": 14,
   "metadata": {},
   "outputs": [],
   "source": []
  },
  {
   "cell_type": "code",
   "execution_count": 28,
   "metadata": {},
   "outputs": [],
   "source": []
  },
  {
   "cell_type": "code",
   "execution_count": 29,
   "metadata": {},
   "outputs": [
    {
     "data": {
      "text/plain": [
       "['[',\n",
       " '[',\n",
       " '[',\n",
       " '[',\n",
       " '[',\n",
       " '9',\n",
       " ',',\n",
       " ' ',\n",
       " '8',\n",
       " ']',\n",
       " ',',\n",
       " ' ',\n",
       " '1',\n",
       " ']',\n",
       " ',',\n",
       " ' ',\n",
       " '2',\n",
       " ']',\n",
       " ',',\n",
       " ' ',\n",
       " '3',\n",
       " ']',\n",
       " ',',\n",
       " ' ',\n",
       " '4',\n",
       " ']']"
      ]
     },
     "execution_count": 29,
     "metadata": {},
     "output_type": "execute_result"
    }
   ],
   "source": [
    "y"
   ]
  },
  {
   "cell_type": "code",
   "execution_count": 17,
   "metadata": {},
   "outputs": [],
   "source": [
    "nested_level = 0"
   ]
  },
  {
   "cell_type": "code",
   "execution_count": 20,
   "metadata": {},
   "outputs": [],
   "source": []
  },
  {
   "cell_type": "code",
   "execution_count": null,
   "metadata": {},
   "outputs": [],
   "source": []
  },
  {
   "cell_type": "code",
   "execution_count": 41,
   "metadata": {},
   "outputs": [
    {
     "name": "stdout",
     "output_type": "stream",
     "text": [
      "need2explode1: 3. last_nr_i = 13\n",
      "need2explode2: 2\n",
      "[7, [6, [5, [7, [3, 2]]]]]\n"
     ]
    }
   ],
   "source": [
    "#[7,[6,[5,[4,[3,2]]]]] becomes [7,[6,[5,[7,0]]]]\n",
    "nums = list('0123456789')\n",
    "#x = [[[[[9,8],1],2],3],4]\n",
    "x = [7,[6,[5,[4,[3,2]]]]]\n",
    "y = list(str(x))\n",
    "\n",
    "last_number_position = None\n",
    "nested_level = 0\n",
    "in_a_pair = False\n",
    "\n",
    "for i,n in enumerate(y):\n",
    "    if n == '[':\n",
    "        nested_level += 1\n",
    "    elif n == ']':\n",
    "        nested_level -= 1    \n",
    "    elif n in nums and nested_level == 5 and not in_a_pair:\n",
    "        in_a_pair = True\n",
    "        print(f\"need2explode1: {y[i]}. last_nr_i = {last_number_position}\")\n",
    "        if last_number_position is not None:\n",
    "            y[last_number_position] = str(int(y[last_number_position]) + int(n))\n",
    "    elif n in nums and nested_level == 5 and in_a_pair:\n",
    "        in_a_pair = False\n",
    "        print(f\"need2explode2: {y[i]}\")\n",
    "        #f last_number_position is not None:\n",
    "        #    y[last_number_position] = str(int(y[last_number_position]) + int(n))\n",
    "    if n in nums:\n",
    "        last_number_position = i\n",
    "    #print(nested_level)\n",
    "    \n",
    "print(''.join(y))"
   ]
  },
  {
   "cell_type": "code",
   "execution_count": 61,
   "metadata": {},
   "outputs": [
    {
     "name": "stdout",
     "output_type": "stream",
     "text": [
      "need2explode1: 9. last_nr_i = None\n",
      "nrxt nr: 8 (7)\n",
      "['[', '[', '[', '[', '[', '9', ',', '8', ']', ',', '1', ']', ',', '2', ']', ',', '3', ']', ',', '4', ']']\n"
     ]
    },
    {
     "data": {
      "text/plain": [
       "'[[[[0,9],2],3],4]'"
      ]
     },
     "execution_count": 61,
     "metadata": {},
     "output_type": "execute_result"
    }
   ],
   "source": [
    "#[7,[6,[5,[4,[3,2]]]]] becomes [7,[6,[5,[7,0]]]]\n",
    "# [[6,[5,[4,[3,2]]]],1] becomes [[6,[5,[7,0]]],3]\n",
    "nums = list('0123456789')\n",
    "#x = [[[[[9,8],1],2],3],4]\n",
    "#x = [7,[6,[5,[4,[3,2]]]]]\n",
    "x = '[[[[[9,8],1],2],3],4]'\n",
    "\n",
    "y = list(x)\n",
    "\n",
    "last_number_position = None\n",
    "nested_level = 0\n",
    "in_a_pair = False\n",
    "i = 0\n",
    "number_to_add_to_next_nr = None\n",
    "has_already_exploded = False\n",
    "\n",
    "while i < len(y):\n",
    "    n = y[i]\n",
    "    \n",
    "     \n",
    "    if n in nums and nested_level == 5 and not has_already_exploded:\n",
    "        in_a_pair = True\n",
    "        print(f\"need2explode1: {y[i]}. last_nr_i = {last_number_position}\")\n",
    "        if last_number_position is not None:\n",
    "            y[last_number_position] = str(int(y[last_number_position]) + int(n))\n",
    "        \n",
    "        number_to_add_to_next_nr = y[i+2]\n",
    "        print(f'nrxt nr: {number_to_add_to_next_nr} ({i+2})')\n",
    "        print(y)\n",
    "        \n",
    "        y = y[:i-1] + ['0'] + y[i+4:]\n",
    "        nested_level -= 1\n",
    "        has_already_exploded = True\n",
    "    \n",
    "    else:\n",
    "        if n == '[':\n",
    "            nested_level += 1\n",
    "        elif n == ']':\n",
    "            nested_level -= 1   \n",
    "        elif n in nums:\n",
    "            if number_to_add_to_next_nr is not None:\n",
    "                \n",
    "                y[i] = str(int(number_to_add_to_next_nr) + int(n))\n",
    "                number_to_add_to_next_nr = None\n",
    "            \n",
    "            last_number_position = i\n",
    "        i += 1\n",
    "    \n",
    "''.join(y)"
   ]
  },
  {
   "cell_type": "code",
   "execution_count": 65,
   "metadata": {},
   "outputs": [
    {
     "name": "stdout",
     "output_type": "stream",
     "text": [
      "need2explode1: 7. last_nr_i = 8\n",
      "next nr: 3\n",
      "need2explode1: 3. last_nr_i = 22\n",
      "next nr: 2\n"
     ]
    },
    {
     "data": {
      "text/plain": [
       "'[[3,[2,[8,0]]],[9,[5,[7,0]]]]'"
      ]
     },
     "execution_count": 65,
     "metadata": {},
     "output_type": "execute_result"
    }
   ],
   "source": [
    "module18.explode('[[3,[2,[1,[7,3]]]],[6,[5,[4,[3,2]]]]]')\n",
    "#'[[3,[2,[8,0]]],[9,[5,[4,[3,2]]]]]'"
   ]
  },
  {
   "cell_type": "code",
   "execution_count": null,
   "metadata": {},
   "outputs": [],
   "source": []
  }
 ],
 "metadata": {
  "kernelspec": {
   "display_name": "Python 3",
   "language": "python",
   "name": "python3"
  },
  "language_info": {
   "codemirror_mode": {
    "name": "ipython",
    "version": 3
   },
   "file_extension": ".py",
   "mimetype": "text/x-python",
   "name": "python",
   "nbconvert_exporter": "python",
   "pygments_lexer": "ipython3",
   "version": "3.7.4"
  }
 },
 "nbformat": 4,
 "nbformat_minor": 4
}
