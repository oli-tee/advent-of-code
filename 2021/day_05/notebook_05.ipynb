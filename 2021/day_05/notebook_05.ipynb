{
 "cells": [
  {
   "cell_type": "code",
   "execution_count": 88,
   "metadata": {},
   "outputs": [
    {
     "data": {
      "text/plain": [
       "<module 'module_05' from '/Users/oli/git_tree/datascience/advent/2021/day_05/module_05.py'>"
      ]
     },
     "execution_count": 88,
     "metadata": {},
     "output_type": "execute_result"
    }
   ],
   "source": [
    "from importlib import reload\n",
    "import module_05\n",
    "reload(module_05)"
   ]
  },
  {
   "cell_type": "code",
   "execution_count": 89,
   "metadata": {},
   "outputs": [],
   "source": [
    "data = module_05.read_data('input_05.txt')"
   ]
  },
  {
   "cell_type": "code",
   "execution_count": 90,
   "metadata": {},
   "outputs": [],
   "source": [
    "data = module_05.read_data('test_input.txt')"
   ]
  },
  {
   "cell_type": "code",
   "execution_count": 91,
   "metadata": {},
   "outputs": [
    {
     "name": "stdout",
     "output_type": "stream",
     "text": [
      "[(0, 9), (1, 9), (2, 9), (3, 9), (4, 9), (5, 9)]\n",
      "[]\n",
      "[(9, 4), (8, 4), (7, 4), (6, 4), (5, 4), (4, 4), (3, 4)]\n",
      "[(2, 2), (2, 1)]\n",
      "[(7, 0), (7, 1), (7, 2), (7, 3), (7, 4)]\n",
      "[]\n",
      "[(0, 9), (1, 9), (2, 9)]\n",
      "[(3, 4), (2, 4), (1, 4)]\n",
      "[]\n",
      "[0, 0, 0, 0, 0, 0, 0, 0, 0, 2]\n",
      "[0, 0, 0, 0, 1, 0, 0, 0, 0, 2]\n",
      "[0, 1, 1, 0, 1, 0, 0, 0, 0, 2]\n",
      "[0, 0, 0, 0, 2, 0, 0, 0, 0, 1]\n",
      "[0, 0, 0, 0, 1, 0, 0, 0, 0, 1]\n",
      "[0, 0, 0, 0, 1, 0, 0, 0, 0, 1]\n",
      "[0, 0, 0, 0, 1, 0, 0, 0, 0, 0]\n",
      "[1, 1, 1, 1, 2, 0, 0, 0, 0, 0]\n",
      "[0, 0, 0, 0, 1, 0, 0, 0, 0, 0]\n",
      "[0, 0, 0, 0, 1, 0, 0, 0, 0, 0]\n"
     ]
    },
    {
     "data": {
      "text/plain": [
       "5"
      ]
     },
     "execution_count": 91,
     "metadata": {},
     "output_type": "execute_result"
    }
   ],
   "source": [
    "module_05.solve(data)"
   ]
  },
  {
   "cell_type": "code",
   "execution_count": 92,
   "metadata": {},
   "outputs": [
    {
     "name": "stdout",
     "output_type": "stream",
     "text": [
      "[(0, 9), (1, 9), (2, 9), (3, 9), (4, 9), (5, 9)]\n",
      "[(8, 0), (7, 1), (6, 2), (5, 3), (4, 4), (3, 5), (2, 6), (1, 7), (0, 8)]\n",
      "[(9, 4), (8, 4), (7, 4), (6, 4), (5, 4), (4, 4), (3, 4)]\n",
      "[(2, 2), (2, 1)]\n",
      "[(7, 0), (7, 1), (7, 2), (7, 3), (7, 4)]\n",
      "[(6, 4), (5, 3), (4, 2), (3, 1), (2, 0)]\n",
      "[(0, 9), (1, 9), (2, 9)]\n",
      "[(3, 4), (2, 4), (1, 4)]\n",
      "[(0, 0), (1, 1), (2, 2), (3, 3), (4, 4), (5, 5), (6, 6), (7, 7), (8, 8)]\n",
      "[1, 0, 0, 0, 0, 0, 0, 0, 1, 2]\n",
      "[0, 1, 0, 0, 1, 0, 0, 1, 0, 2]\n",
      "[1, 1, 2, 0, 1, 0, 1, 0, 0, 2]\n",
      "[0, 1, 0, 1, 2, 1, 0, 0, 0, 1]\n",
      "[0, 0, 1, 0, 3, 0, 0, 0, 0, 1]\n",
      "[0, 0, 0, 2, 1, 1, 0, 0, 0, 1]\n",
      "[0, 0, 1, 0, 2, 0, 1, 0, 0, 0]\n",
      "[1, 2, 1, 1, 2, 0, 0, 1, 0, 0]\n",
      "[1, 0, 0, 0, 1, 0, 0, 0, 1, 0]\n",
      "[0, 0, 0, 0, 1, 0, 0, 0, 0, 0]\n"
     ]
    },
    {
     "data": {
      "text/plain": [
       "10"
      ]
     },
     "execution_count": 92,
     "metadata": {},
     "output_type": "execute_result"
    }
   ],
   "source": [
    "module_05.solve2(data)"
   ]
  },
  {
   "cell_type": "code",
   "execution_count": null,
   "metadata": {},
   "outputs": [],
   "source": []
  },
  {
   "cell_type": "code",
   "execution_count": null,
   "metadata": {},
   "outputs": [],
   "source": []
  }
 ],
 "metadata": {
  "kernelspec": {
   "display_name": "Python 3",
   "language": "python",
   "name": "python3"
  },
  "language_info": {
   "codemirror_mode": {
    "name": "ipython",
    "version": 3
   },
   "file_extension": ".py",
   "mimetype": "text/x-python",
   "name": "python",
   "nbconvert_exporter": "python",
   "pygments_lexer": "ipython3",
   "version": "3.7.4"
  }
 },
 "nbformat": 4,
 "nbformat_minor": 4
}
